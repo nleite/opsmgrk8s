{
 "cells": [
  {
   "cell_type": "markdown",
   "metadata": {
    "slideshow": {
     "slide_type": "slide"
    }
   },
   "source": [
    "# MongoDB Enterprise Kubernetes Operator"
   ]
  },
  {
   "cell_type": "markdown",
   "metadata": {
    "slideshow": {
     "slide_type": "slide"
    }
   },
   "source": [
    "## Agenda \n",
    "\n",
    "- High level overview of Kubernetes\n",
    "- Kubernetes Cluster vs MongoDB Cluster\n",
    "- Statefull vs Stateless Replication \n",
    "- Kubernetes Operators\n",
    "- Ops Manager Kubernetes Operator\n"
   ]
  },
  {
   "cell_type": "markdown",
   "metadata": {
    "slideshow": {
     "slide_type": "slide"
    }
   },
   "source": [
    "## `> whoami`\n",
    "\n",
    "![norberto leite](assets/DT5hO0_u_400x400.jpg) \n",
    "\n",
    "```json\n",
    "{\n",
    "    \"name\": \"Norberto Leite\", \n",
    "    \"position\": \"Lead Engineer\", \n",
    "    \"team\": \"Curriculum, Engineering\"\n",
    "}\n",
    "```\n",
    "\n",
    "### [@nleite](https://twitter.com/nleite)"
   ]
  },
  {
   "cell_type": "markdown",
   "metadata": {
    "slideshow": {
     "slide_type": "slide"
    }
   },
   "source": [
    "### Disclaimer\n",
    "\n",
    "> This is a buzzword intensive presentation but by no means intended to tricky you into thinking I'm a very smart person! Buzzwords just sound nice when put together...\n"
   ]
  },
  {
   "cell_type": "markdown",
   "metadata": {
    "slideshow": {
     "slide_type": "subslide"
    }
   },
   "source": [
    "### Methods and Materials\n",
    "\n",
    "- ``minikube``\n",
    "- ``kubectrl`` \n",
    "- ``ops manager``\n",
    "- ``mongodb-enterprise-kubernetes``"
   ]
  },
  {
   "cell_type": "markdown",
   "metadata": {
    "slideshow": {
     "slide_type": "notes"
    }
   },
   "source": [
    "An to keep my promisse, these are some of the tools that I'll be exploring in this session. \n",
    "\n",
    "In this presentation I'll be assembling a kubernetes cluster and configuring the necessary operator to interact and deploy a MongoDB cluster, in the k8s using opsmanager. \n",
    "For that I'll be making use of a few pre-installed tools. \n",
    "\n",
    "* ``minikue`` - localhost kubernetes test cluster\n",
    "* ``kubectl`` - commandline tool for managing and interacting with the k8s cluster \n",
    "* ``ops manager`` - vagrant box that deploys ops manager\n",
    "* ``mongodb-enterprise-kubernetes`` - k8s mongodb official operator for ops manager\n",
    "\n",
    "The jupyter notebook version of this presentation contains all the setup and installation instructions so that you do not have to manually install every single one of these tools, if you whish to reproduce the same steps later on. "
   ]
  },
  {
   "cell_type": "markdown",
   "metadata": {
    "slideshow": {
     "slide_type": "subslide"
    }
   },
   "source": [
    "#### Presentation Source Notebook\n",
    "\n",
    "https://github.com/nleite/opsmgrk8s"
   ]
  },
  {
   "cell_type": "code",
   "execution_count": null,
   "metadata": {
    "slideshow": {
     "slide_type": "subslide"
    }
   },
   "outputs": [],
   "source": [
    "brew install kubectl"
   ]
  },
  {
   "cell_type": "markdown",
   "metadata": {
    "slideshow": {
     "slide_type": "notes"
    }
   },
   "source": [
    "which you can download / clone / reproduce by looking into this link. \n"
   ]
  },
  {
   "cell_type": "markdown",
   "metadata": {
    "slideshow": {
     "slide_type": "slide"
    }
   },
   "source": [
    "## High level overview of Kubernetes\n",
    "\n",
    "\n",
    "![general k8s architecture](assets/general_k8s_archictecture19_10.png)"
   ]
  },
  {
   "cell_type": "markdown",
   "metadata": {
    "slideshow": {
     "slide_type": "notes"
    }
   },
   "source": [
    "On a high level, kubernetes can be represented by something similar to this diagram. \n",
    "\n",
    "For each Kubernetes cluster, we will have master node, which holds a set of important components of the architecture: \n",
    "\n",
    "- kube-scheduler \n",
    "- kube-control-manager \n",
    "- kube-apiserver \n",
    "- etcd \n",
    "- kubelet\n",
    "- kube-proxy\n",
    "\n",
    "Each of these I'll provide the relevant links for the exact function within a k8s cluster, however the names of these components are pretty self explanatory. \n",
    "The unusual one, that might be a bit more criptic in terms of meaning, given that the name might mean very different things, is etcd, which is an HA key value store, that Kubernetes uses for all cluster data. You can think of etcd as the config server in a MongoDB sharded cluster, which may or may not be set to run within the master node at all. It can run on it's own separate node.  \n",
    "You will find all the relevant links at the end of this presentation.\n",
    "\n",
    "But in essence, the master node runs a fair amount of different things. \n",
    "\n",
    "https://github.com/kubernetes/community/blob/master/contributors/design-proposals/architecture/architecture.md#the-kubernetes-node"
   ]
  },
  {
   "cell_type": "markdown",
   "metadata": {
    "slideshow": {
     "slide_type": "subslide"
    }
   },
   "source": [
    "### Multi-master Kubernetes with ``kubeadm``\n",
    "![general k8s architecture](assets/general_k8s_archictecture_multimaster.png)"
   ]
  },
  {
   "cell_type": "markdown",
   "metadata": {
    "slideshow": {
     "slide_type": "notes"
    }
   },
   "source": [
    "Given the previous diagram, you might been thinking\n",
    "\n",
    "> this Kubernetes cluster thing does not seem to be too scalable, how in this day an age does a cluster have only one master. \n",
    "\n",
    "Well, fear not, kubernetes does have a way to avoid single points of failure using ``kubeadm``. \n",
    "This is out-of-scope for this talk, but keep in mind that this alone can be setup in several different architectures. \n",
    "\n",
    "Bottom line is that kubernetes can be set to run in an HA mode."
   ]
  },
  {
   "cell_type": "markdown",
   "metadata": {
    "slideshow": {
     "slide_type": "subslide"
    }
   },
   "source": [
    "### Kubernetes Node \n",
    "![formely know as minion](assets/k8s_node_diagram.png)"
   ]
  },
  {
   "cell_type": "markdown",
   "metadata": {
    "slideshow": {
     "slide_type": "notes"
    }
   },
   "source": [
    "Kubernetes is a cluster, therefore \n",
    "> there will be dragons! \n",
    "\n",
    "Not really, but there will be nodes. \n",
    "Aside from the previously aluded Master node, or several of these, we will also have worker nodes, previously known as ``minions``\n",
    "\n",
    "These worker nodes can have serveral different specs. We can compose a k8s cluster with physical, virtual, cloud server nodes. Although, like in any systems archicture, consistency tends to be benefitial on the long term, a k8s cluster can be composed by a very diverse set of server instance specs. \n",
    "\n",
    "Each node is composed with the necessary services to run ``pods``. "
   ]
  },
  {
   "cell_type": "code",
   "execution_count": null,
   "metadata": {
    "scrolled": true,
    "slideshow": {
     "slide_type": "subslide"
    }
   },
   "outputs": [],
   "source": [
    "%%bash\n",
    "\n",
    "kubectl get nodes -o json "
   ]
  },
  {
   "cell_type": "markdown",
   "metadata": {
    "slideshow": {
     "slide_type": "notes"
    }
   },
   "source": [
    "Using kubectl I can easily get information about the nodes that are currently running in my local cluster. \n",
    "\n",
    "    while delivering this talk you can show the dynamic nature of this presentation format by changing the command from this current node to the following instruction \n",
    "    \n",
    "    kubectl get nodes -o json \n",
    "    \n",
    "    This will generate a quite large output that you can skip iterating on\n",
    "    \n",
    "In my case, I have only one member in the cluster, minikube, which is readily available and has the master role. "
   ]
  },
  {
   "cell_type": "markdown",
   "metadata": {
    "slideshow": {
     "slide_type": "slide"
    }
   },
   "source": [
    "### Kubernetes Pod"
   ]
  },
  {
   "cell_type": "markdown",
   "metadata": {
    "slideshow": {
     "slide_type": "slide"
    }
   },
   "source": [
    "### Containers"
   ]
  },
  {
   "cell_type": "markdown",
   "metadata": {
    "slideshow": {
     "slide_type": "slide"
    }
   },
   "source": [
    "### Kubernetes Service "
   ]
  },
  {
   "cell_type": "markdown",
   "metadata": {
    "slideshow": {
     "slide_type": "slide"
    }
   },
   "source": [
    "## Kubernetes Cluster vs MongoDB Cluster\n"
   ]
  },
  {
   "cell_type": "markdown",
   "metadata": {
    "slideshow": {
     "slide_type": "notes"
    }
   },
   "source": [
    "With all this cluter definitions on Kubernetes, how does this compare to a MongoDB Cluster? What parallelism can we trace between these two, different in nature and purpose and functionality, but still distributed systems? What differences and similiar terms and processes do we have to mingle together ? "
   ]
  },
  {
   "cell_type": "markdown",
   "metadata": {
    "slideshow": {
     "slide_type": "subslide"
    }
   },
   "source": [
    "### Definitions \n",
    "\n",
    "- MongoDB Replica Set \n",
    "\n",
    "- Kubernetes Replica Set \n",
    "\n",
    "- MongoDB Node \n",
    "\n",
    "- Kubernetes Node"
   ]
  },
  {
   "cell_type": "markdown",
   "metadata": {
    "slideshow": {
     "slide_type": "slide"
    }
   },
   "source": [
    "## Stateful vs Stateless Replication\n",
    "\n",
    "// some image about stateless and stateful"
   ]
  },
  {
   "cell_type": "markdown",
   "metadata": {
    "slideshow": {
     "slide_type": "slide"
    }
   },
   "source": [
    "## Kubernetes Operator\n",
    "\n",
    "> An Operator is a method of packaging, deploying and managing a Kubernetes application. A Kubernetes application is an application that is both deployed on Kubernetes and managed using the Kubernetes APIs and kubectl tooling.\n",
    "\n",
    "_https://coreos.com/operators/_"
   ]
  },
  {
   "cell_type": "markdown",
   "metadata": {
    "slideshow": {
     "slide_type": "slide"
    }
   },
   "source": [
    "## MongoDB Enterprise Kubernetes Operator (beta)\n",
    "\n",
    "> The Operator enables easy deploys of MongoDB into Kubernetes clusters, using our management, monitoring and backup platforms, Ops Manager and Cloud Manager. By installing this integration, you will be able to deploy MongoDB instances with a single simple command.\n",
    "\n",
    "_https://github.com/mongodb/mongodb-enterprise-kubernetes_"
   ]
  },
  {
   "cell_type": "markdown",
   "metadata": {
    "slideshow": {
     "slide_type": "slide"
    }
   },
   "source": [
    "## All Together Now!\n",
    "\n",
    "![All Together Now](https://upload.wikimedia.org/wikipedia/en/c/cd/All_Together_Now_cover.jpg)\n"
   ]
  },
  {
   "cell_type": "code",
   "execution_count": null,
   "metadata": {
    "slideshow": {
     "slide_type": "skip"
    }
   },
   "outputs": [],
   "source": [
    "from IPython.display import YouTubeVideo \n",
    "video_id = \"e9ENv0l6_bc\"\n",
    "YouTubeVideo(video_id, 400, 300, start=30)\n"
   ]
  },
  {
   "cell_type": "markdown",
   "metadata": {
    "slideshow": {
     "slide_type": "slide"
    }
   },
   "source": [
    "## Recap\n",
    "\n",
    "What we've learned today!"
   ]
  },
  {
   "cell_type": "markdown",
   "metadata": {
    "slideshow": {
     "slide_type": "subslide"
    }
   },
   "source": [
    "### References and Glossory\n",
    "\n",
    "* [kubectl documentation](https://kubernetes.io/docs/reference/kubectl/kubectl/)\n",
    "* [kubernetes node]()\n",
    "* [kubeadm documentation](https://kubernetes.io/docs/setup/independent/high-availability/#external-etcd)"
   ]
  },
  {
   "cell_type": "code",
   "execution_count": null,
   "metadata": {},
   "outputs": [],
   "source": []
  }
 ],
 "metadata": {
  "celltoolbar": "Slideshow",
  "kernelspec": {
   "display_name": "Python 3",
   "language": "python",
   "name": "python3"
  },
  "language_info": {
   "codemirror_mode": {
    "name": "ipython",
    "version": 3
   },
   "file_extension": ".py",
   "mimetype": "text/x-python",
   "name": "python",
   "nbconvert_exporter": "python",
   "pygments_lexer": "ipython3",
   "version": "3.7.0"
  }
 },
 "nbformat": 4,
 "nbformat_minor": 2
}
