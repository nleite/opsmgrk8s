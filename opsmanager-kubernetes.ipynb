{
 "cells": [
  {
   "cell_type": "markdown",
   "metadata": {
    "slideshow": {
     "slide_type": "slide"
    }
   },
   "source": [
    "# MongoDB Enterprise Kubernetes Operator"
   ]
  },
  {
   "cell_type": "markdown",
   "metadata": {
    "slideshow": {
     "slide_type": "slide"
    }
   },
   "source": [
    "## Agenda \n",
    "\n",
    "- High level overview of Kubernetes\n",
    "- Kubernetes cluster and deployment \n",
    "- MongoDB Cluster considerations \n",
    "- Statefull vs Stateless Replication \n",
    "- Kubernetes Operator\n",
    "- Ops Manager Kubernetes Operator\n"
   ]
  },
  {
   "cell_type": "markdown",
   "metadata": {
    "slideshow": {
     "slide_type": "slide"
    }
   },
   "source": [
    "## `> whoami`\n",
    "\n",
    "![norberto leite](assets/DT5hO0_u_400x400.jpg) \n",
    "\n",
    "```json\n",
    "{\n",
    "    \"name\": \"Norberto Leite\", \n",
    "    \"position\": \"Lead Engineer\", \n",
    "    \"team\": \"Curriculum, Engineering\"\n",
    "}\n",
    "```\n",
    "\n",
    "### [@nleite](https://twitter.com/nleite)"
   ]
  },
  {
   "cell_type": "markdown",
   "metadata": {
    "slideshow": {
     "slide_type": "slide"
    }
   },
   "source": [
    "### Disclaimer\n",
    "\n",
    "> This is a buzzword intensive presentation but by no means intended to tricky you into thinking I'm a very smart person! Buzzwords just sound nice when put together...\n"
   ]
  },
  {
   "cell_type": "markdown",
   "metadata": {
    "slideshow": {
     "slide_type": "slide"
    }
   },
   "source": [
    "## High level overview of Kubernetes\n",
    "\n",
    "\n",
    "// image on the Kubernetes architecture "
   ]
  },
  {
   "cell_type": "markdown",
   "metadata": {
    "slideshow": {
     "slide_type": "subslide"
    }
   },
   "source": [
    "### Kubernetes Node "
   ]
  },
  {
   "cell_type": "markdown",
   "metadata": {},
   "source": [
    "### Kubernetes Service "
   ]
  },
  {
   "cell_type": "markdown",
   "metadata": {},
   "source": [
    "### Kubernetes Pod"
   ]
  },
  {
   "cell_type": "markdown",
   "metadata": {},
   "source": [
    "### Containers"
   ]
  },
  {
   "cell_type": "markdown",
   "metadata": {
    "slideshow": {
     "slide_type": "slide"
    }
   },
   "source": [
    "## Stateful vs Stateless Replication\n",
    "\n",
    "// some image about stateless and stateful"
   ]
  },
  {
   "cell_type": "markdown",
   "metadata": {
    "slideshow": {
     "slide_type": "slide"
    }
   },
   "source": [
    "## Kubernetes Operator\n",
    "\n",
    "> An Operator is a method of packaging, deploying and managing a Kubernetes application. A Kubernetes application is an application that is both deployed on Kubernetes and managed using the Kubernetes APIs and kubectl tooling.\n",
    "\n",
    "_https://coreos.com/operators/_"
   ]
  },
  {
   "cell_type": "markdown",
   "metadata": {
    "slideshow": {
     "slide_type": "slide"
    }
   },
   "source": [
    "## MongoDB Enterprise Kubernetes Operator (beta)\n",
    "\n",
    "> The Operator enables easy deploys of MongoDB into Kubernetes clusters, using our management, monitoring and backup platforms, Ops Manager and Cloud Manager. By installing this integration, you will be able to deploy MongoDB instances with a single simple command.\n",
    "\n",
    "_https://github.com/mongodb/mongodb-enterprise-kubernetes_"
   ]
  },
  {
   "cell_type": "code",
   "execution_count": null,
   "metadata": {},
   "outputs": [],
   "source": []
  }
 ],
 "metadata": {
  "celltoolbar": "Slideshow",
  "kernelspec": {
   "display_name": "Python 3",
   "language": "python",
   "name": "python3"
  },
  "language_info": {
   "codemirror_mode": {
    "name": "ipython",
    "version": 3
   },
   "file_extension": ".py",
   "mimetype": "text/x-python",
   "name": "python",
   "nbconvert_exporter": "python",
   "pygments_lexer": "ipython3",
   "version": "3.7.0"
  }
 },
 "nbformat": 4,
 "nbformat_minor": 2
}
