{
 "cells": [
  {
   "cell_type": "markdown",
   "metadata": {
    "slideshow": {
     "slide_type": "slide"
    }
   },
   "source": [
    "# MongoDB Enterprise Kubernetes Operator"
   ]
  },
  {
   "cell_type": "markdown",
   "metadata": {
    "slideshow": {
     "slide_type": "slide"
    }
   },
   "source": [
    "## Agenda \n",
    "\n",
    "- High level overview of Kubernetes\n",
    "- Kubernetes Cluster vs MongoDB Cluster\n",
    "- Statefull vs Stateless Replication \n",
    "- Kubernetes Operators\n",
    "- Ops Manager Kubernetes Operator\n",
    "- Build a local cluster along the way\n"
   ]
  },
  {
   "cell_type": "markdown",
   "metadata": {
    "slideshow": {
     "slide_type": "slide"
    }
   },
   "source": [
    "## `> whoami`\n",
    "\n",
    "![norberto leite](assets/DT5hO0_u_400x400.jpg) \n",
    "\n",
    "```json\n",
    "{\n",
    "    \"name\": \"Norberto Leite\", \n",
    "    \"position\": \"Lead Engineer\", \n",
    "    \"team\": \"Curriculum, Engineering\"\n",
    "}\n",
    "```\n",
    "\n",
    "### [@nleite](https://twitter.com/nleite)"
   ]
  },
  {
   "cell_type": "markdown",
   "metadata": {
    "slideshow": {
     "slide_type": "subslide"
    }
   },
   "source": [
    "### Disclaimer\n",
    "\n",
    "> This is a buzzword intensive presentation but by no means intended to tricky you into thinking I'm a very smart person! Buzzwords just sound nice when put together...\n"
   ]
  },
  {
   "cell_type": "markdown",
   "metadata": {
    "slideshow": {
     "slide_type": "slide"
    }
   },
   "source": [
    "### But before we get started ....\n",
    "\n",
    "![mflix front page ](assets/mflix_frontpage.png)\n",
    "\n",
    "replace this image"
   ]
  },
  {
   "cell_type": "markdown",
   "metadata": {
    "slideshow": {
     "slide_type": "subslide"
    }
   },
   "source": [
    "### MongoDB Developer Courses \n",
    "\n",
    "![m220p](assets/M220JS_hero.jpg)\n",
    "\n",
    "\n",
    "https://university.mongodb.com/"
   ]
  },
  {
   "cell_type": "markdown",
   "metadata": {
    "slideshow": {
     "slide_type": "slide"
    }
   },
   "source": [
    "## Kubernetes\n",
    "\n",
    "![Kubernetes Logo](assets/kubernetes_logo.png)"
   ]
  },
  {
   "cell_type": "markdown",
   "metadata": {
    "slideshow": {
     "slide_type": "subslide"
    }
   },
   "source": [
    "### Kubernetes vendor ecosystem\n",
    "\n",
    "![kubernetes vendors](assets/k8t_new.jpg)\n",
    "\n",
    "> https://blog.spotinst.com/2018/05/20/kubernetes-ecosystem/"
   ]
  },
  {
   "cell_type": "markdown",
   "metadata": {
    "slideshow": {
     "slide_type": "subslide"
    }
   },
   "source": [
    "### Definition\n",
    "\n",
    "Kubernetes is an open-source container-orchestration system for automating deployment, scaling and management of containerized applications. It was originally designed by Google and is now maintained by the Cloud Native Computing Foundation\n",
    "\n",
    "![kubernetes_definition](assets/kubernetes_definition.png)"
   ]
  },
  {
   "cell_type": "markdown",
   "metadata": {
    "slideshow": {
     "slide_type": "subslide"
    }
   },
   "source": [
    "#### Kubernetes Objects\n",
    "\n",
    "- pods\n",
    "- replicasets\n",
    "- persistentvolumeclaims\n",
    "- persistentvolumes\n",
    "- nodes\n",
    "- storageclasses\n",
    "- clusters\n",
    "- ...\n",
    "\n",
    "https://kubernetes.io/docs/concepts/overview/working-with-objects/kubernetes-objects/"
   ]
  },
  {
   "cell_type": "markdown",
   "metadata": {
    "slideshow": {
     "slide_type": "subslide"
    }
   },
   "source": [
    "### Kubernetes is *for* Containers => *Virginia is for Lovers*\n",
    "\n",
    "Kubernetes is an open-source **`container`**-orchestration system for automating deployment, scaling and management of **`containerized applications`**. It was originally designed by Google and is now maintained by the Cloud Native Computing Foundation\n",
    "\n",
    "![kubernetes_definition](assets/kubernetes_definition.png) | ![](assets/Welcome_to_Virginia_Sign.jpg)\n",
    "----- | -----\n"
   ]
  },
  {
   "cell_type": "markdown",
   "metadata": {
    "slideshow": {
     "slide_type": "notes"
    }
   },
   "source": [
    "Kubernetes uses containers. Well, we can say that kubernetes loves containers. Deploys and manages containers and containerized applications \n",
    "\n",
    "Kubernetes has standardized the container definition using docker format. "
   ]
  },
  {
   "cell_type": "markdown",
   "metadata": {
    "slideshow": {
     "slide_type": "subslide"
    }
   },
   "source": [
    "### Container definition\n",
    "`cat mflix/Dockerfile`\n",
    "\n",
    "```yaml\n",
    "# base image of mflix container\n",
    "FROM java:8\n",
    "# port number the container exposes\n",
    "EXPOSE 90000\n",
    "# make the jar file available in the container image\n",
    "COPY mflix-1.0-SNAPSHOT.jar ./mflix-1.0-SNAPSHOT.jar\n",
    "# application run command\n",
    "CMD [\"java\", \"-jar\", \"./mflix-1.0-SNAPSHOT.jar\"]\n",
    "```"
   ]
  },
  {
   "cell_type": "markdown",
   "metadata": {
    "slideshow": {
     "slide_type": "notes"
    }
   },
   "source": [
    "In this file we can see an example of a Docker image file. \n",
    "Sets the instructions to load, expose and execute containarized applications or instances. \n",
    "\n",
    "The Docker images are hiearchical, this means that we can compose images uppon each other, inheriting the configuration and image setup\n",
    "\n",
    "In this example we are creating a container image using as baseline a Java image."
   ]
  },
  {
   "cell_type": "markdown",
   "metadata": {
    "slideshow": {
     "slide_type": "subslide"
    }
   },
   "source": [
    "### Image vs Container\n",
    "\n",
    "An `image` determines what and how to run, using/inherinting which requierements and the default configuration of a **containerized application**\n",
    "\n",
    "\n",
    "A `container` is the the **runtime** execution of a built Docker image."
   ]
  },
  {
   "cell_type": "markdown",
   "metadata": {
    "slideshow": {
     "slide_type": "subslide"
    }
   },
   "source": [
    "### Image vs Container diagram\n",
    "![image vs container](assets/vGuay.png)\n",
    "\n",
    "> https://stackoverflow.com/questions/23735149/what-is-the-difference-between-a-docker-image-and-a-container"
   ]
  },
  {
   "cell_type": "markdown",
   "metadata": {
    "slideshow": {
     "slide_type": "subslide"
    }
   },
   "source": [
    "### Kubernetes manages Containers\n",
    "\n",
    "Kubernetes is an open-source container-**`orchestration`** system for **`automating deployment, scaling and management`** of containerized applications. It was originally designed by Google and is now maintained by the Cloud Native Computing Foundation\n",
    "\n",
    "![kubernetes_definition](assets/kubernetes_definition.png)"
   ]
  },
  {
   "cell_type": "markdown",
   "metadata": {
    "slideshow": {
     "slide_type": "notes"
    }
   },
   "source": [
    "Aside from running containers, kubernetes is also capable of defining the rules of when to start/stop containers, how containers communicate with one another, how we scale deployments, how to upgrade versions of containers, how to provide HA and fault-tolerance, where to place different containers into different node / machines."
   ]
  },
  {
   "cell_type": "markdown",
   "metadata": {
    "slideshow": {
     "slide_type": "slide"
    }
   },
   "source": [
    "## Kubernetes Architecture\n",
    "\n",
    "\n",
    "\n",
    "![general k8s architecture](assets/general_k8s_archictecture19_10.png)"
   ]
  },
  {
   "cell_type": "markdown",
   "metadata": {
    "slideshow": {
     "slide_type": "notes"
    }
   },
   "source": [
    "On a high level, kubernetes can be represented by something similar to this diagram. \n",
    "\n",
    "For each Kubernetes cluster, we will have master node, which holds a set of important components of the architecture: \n",
    "\n",
    "- kube-scheduler \n",
    "- kube-control-manager \n",
    "- kube-apiserver \n",
    "- etcd \n",
    "- kubelet\n",
    "- kube-proxy\n",
    "\n",
    "Each of these I'll provide the relevant links for the exact function within a k8s cluster, however the names of these components are pretty self explanatory. \n",
    "The unusual one, that might be a bit more criptic in terms of meaning, given that the name might mean very different things, is etcd, which is an HA key value store, that Kubernetes uses for all cluster data. You can think of etcd as the config server in a MongoDB sharded cluster, which may or may not be set to run within the master node at all. It can run on it's own separate node.  \n",
    "You will find all the relevant links at the end of this presentation.\n",
    "\n",
    "But in essence, the master node runs a fair amount of different things. \n",
    "\n",
    "https://github.com/kubernetes/community/blob/master/contributors/design-proposals/architecture/architecture.md#the-kubernetes-node"
   ]
  },
  {
   "cell_type": "markdown",
   "metadata": {
    "slideshow": {
     "slide_type": "subslide"
    }
   },
   "source": [
    "### Multi-master Kubernetes with ``kubeadm``\n",
    "![general k8s architecture](assets/general_k8s_archictecture_multimaster.png)"
   ]
  },
  {
   "cell_type": "markdown",
   "metadata": {
    "slideshow": {
     "slide_type": "notes"
    }
   },
   "source": [
    "Given the previous diagram, you might been thinking\n",
    "\n",
    "> this Kubernetes cluster thing does not seem to be too scalable, how in this day an age does a cluster have only one master. \n",
    "\n",
    "Well, fear not, kubernetes does have a way to avoid single points of failure using ``kubeadm``. \n",
    "This is out-of-scope for this talk, but keep in mind that this alone can be setup in several different architectures. \n",
    "\n",
    "Bottom line is that kubernetes can be set to run in an HA mode."
   ]
  },
  {
   "cell_type": "markdown",
   "metadata": {
    "slideshow": {
     "slide_type": "slide"
    }
   },
   "source": [
    "### Kubernetes Node \n",
    "![formely know as minion](assets/k8s_node_diagram.png)"
   ]
  },
  {
   "cell_type": "markdown",
   "metadata": {
    "slideshow": {
     "slide_type": "notes"
    }
   },
   "source": [
    "Kubernetes is a cluster, therefore \n",
    "> there will be dragons! \n",
    "\n",
    "Not really, but there will be nodes. \n",
    "Aside from the previously aluded Master node, or several of these, we will also have worker nodes, previously known as ``minions``\n",
    "\n",
    "These worker nodes can have serveral different specs. We can compose a k8s cluster with physical, virtual, cloud server nodes. Although, like in any systems archicture, consistency tends to be benefitial on the long term, a k8s cluster can be composed by a very diverse set of server instance specs. \n",
    "\n",
    "Each node is composed with the necessary services to run ``pods``. Has a container runtime, with that same purpose in mind, this is generally docker.\n"
   ]
  },
  {
   "cell_type": "markdown",
   "metadata": {
    "slideshow": {
     "slide_type": "slide"
    }
   },
   "source": [
    "### Kubernetes Pod\n",
    "\n",
    "![pod diagram](assets/k8s_pod_diagram.png)\n",
    "\n",
    "https://kubernetes.io/docs/concepts/workloads/pods/pod/"
   ]
  },
  {
   "cell_type": "markdown",
   "metadata": {
    "slideshow": {
     "slide_type": "notes"
    }
   },
   "source": [
    "A POD is the smallest deployable unit of computing in Kubernetes. \n",
    "It can be composed of one or several different containers, a group of containers, and allows the definition of shared network and storage and how to run the set of containers that compose the POD. "
   ]
  },
  {
   "cell_type": "markdown",
   "metadata": {
    "slideshow": {
     "slide_type": "subslide"
    }
   },
   "source": [
    "### Kubernetes ReplicaSet - Across Nodes\n",
    "\n",
    "![replica set across different nodes](assets/k8s_replicaset_multiplenodes_diagram.png)\n",
    "https://kubernetes.io/docs/concepts/workloads/controllers/replicaset/"
   ]
  },
  {
   "cell_type": "markdown",
   "metadata": {
    "slideshow": {
     "slide_type": "notes"
    }
   },
   "source": [
    "Kubernetes allows for pods to be fault tolerant and highly available. This managed via ReplicaSes (familiar name!) \n",
    "\n",
    "We can define PODs replica sets across nodes"
   ]
  },
  {
   "cell_type": "markdown",
   "metadata": {
    "slideshow": {
     "slide_type": "subslide"
    }
   },
   "source": [
    "### Kubernetes ReplicaSet - Single Node\n",
    "\n",
    "![replica set single node](assets/k8s_replicaset_singlenode_diagram.png)"
   ]
  },
  {
   "cell_type": "markdown",
   "metadata": {
    "slideshow": {
     "slide_type": "notes"
    }
   },
   "source": [
    "Or within a single node. \n",
    "This is model that we are going to setup today."
   ]
  },
  {
   "cell_type": "markdown",
   "metadata": {
    "slideshow": {
     "slide_type": "slide"
    }
   },
   "source": [
    "### Kubernetes Service \n",
    "\n",
    "![Kubernetes Service](assets/k8s_service_diagram.png)\n",
    "https://kubernetes.io/docs/concepts/services-networking/service/"
   ]
  },
  {
   "cell_type": "markdown",
   "metadata": {
    "slideshow": {
     "slide_type": "notes"
    }
   },
   "source": [
    "Services are a speciall type of POD that that other PODs relly on to operate. \n",
    "Now, by default PODs are mortal and get resurected dynamically, and they subject to constant change in terms of their deployment composition, number of replica nodes etc. \n",
    "This can cause issues to other PODs if those rely in some guarantees and pre-defined configuration. \n",
    "\n",
    "A Kubernetes Service is an abstraction which defines a logical set of PODs and a policy by which to access them. You find Services as relliable and consistent PODs to support other PODs.\n",
    "\n"
   ]
  },
  {
   "cell_type": "markdown",
   "metadata": {
    "slideshow": {
     "slide_type": "slide"
    }
   },
   "source": [
    "## Ops Manager / Cloud Manager\n",
    "\n",
    "![ops manager diagram](assets/ops_manager_diagram.png)"
   ]
  },
  {
   "cell_type": "markdown",
   "metadata": {
    "slideshow": {
     "slide_type": "notes"
    }
   },
   "source": [
    "MongoDB Ops Manager is a MongoDB on-prem solution for managing MongoDB Cluster deployments. \n",
    "Allows for an holistic management of all things related with MongoDB\n",
    "\n",
    "- updates\n",
    "- scaling up and down\n",
    "- user management and integration \n",
    "- node deployment \n",
    "- role management \n",
    "\n",
    "Across you datacenter.\n",
    "\n",
    "And there are several particular aspects of a MongoDB Cluster that need care and attention, something that ops manager takes care of in a very efficient way. "
   ]
  },
  {
   "cell_type": "markdown",
   "metadata": {
    "slideshow": {
     "slide_type": "subslide"
    }
   },
   "source": [
    "### Cloud / Ops Manager - Monitoring\n",
    "\n",
    "![opsmanager monitoring](assets/opsmanager_monitoring.png)"
   ]
  },
  {
   "cell_type": "markdown",
   "metadata": {
    "slideshow": {
     "slide_type": "subslide"
    }
   },
   "source": [
    "### Cloud / Ops Manager - Automation\n",
    "\n",
    "![opsmanager automation](assets/ops_manager_automation.png)"
   ]
  },
  {
   "cell_type": "markdown",
   "metadata": {
    "slideshow": {
     "slide_type": "subslide"
    }
   },
   "source": [
    "### Cloud / Ops Manager - Backup \n",
    "\n",
    "![opsmanager backup](assets/opsmanager_backup.png)"
   ]
  },
  {
   "cell_type": "markdown",
   "metadata": {
    "slideshow": {
     "slide_type": "subslide"
    }
   },
   "source": [
    "### Cloud / Ops Manager Agents\n",
    "\n",
    "![agents](assets/opscloud_manager_agents.png)"
   ]
  },
  {
   "cell_type": "markdown",
   "metadata": {
    "slideshow": {
     "slide_type": "slide"
    }
   },
   "source": [
    "## Kubernetes Cluster vs MongoDB Cluster\n",
    "\n",
    "![kubernetes vs MongoDB Cluster](assets/k8s_mongodb_cluster.png)"
   ]
  },
  {
   "cell_type": "markdown",
   "metadata": {
    "slideshow": {
     "slide_type": "notes"
    }
   },
   "source": [
    "There are several similar notions and definitions between a Kubernetes cluster and a MongoDB cluster. \n",
    "\n",
    "But the devil is in the details and in the functionality of each of these clusters. \n"
   ]
  },
  {
   "cell_type": "markdown",
   "metadata": {
    "slideshow": {
     "slide_type": "subslide"
    }
   },
   "source": [
    "### Cluster Concepts \n",
    "\n",
    "- MongoDB Replica Set \n",
    "\n",
    "- Kubernetes Replica Set \n",
    "\n",
    "- MongoDB Node \n",
    "\n",
    "- Kubernetes Node"
   ]
  },
  {
   "cell_type": "markdown",
   "metadata": {
    "slideshow": {
     "slide_type": "subslide"
    }
   },
   "source": [
    "### Kubernetes Nodes vs MongoDB Nodes \n",
    "\n",
    "![Kubernetes nodes vs MongoDB nodes](assets/k8s_nodes_mongodb_nodes.png)\n"
   ]
  },
  {
   "cell_type": "markdown",
   "metadata": {
    "slideshow": {
     "slide_type": "subslide"
    }
   },
   "source": [
    "### MongoDB Nodes in a Kubernetes Node\n",
    "\n",
    "![kubernetes MongoDB POD](assets/k8s_nodes_mongodb_pod.png)\n"
   ]
  },
  {
   "cell_type": "markdown",
   "metadata": {
    "slideshow": {
     "slide_type": "subslide"
    }
   },
   "source": [
    "### Kubernetes ReplicaSet vs MongoDB ReplicaSet\n",
    "\n",
    "![replica sets](assets/k8s_replicaset_mdb_replicaset.png)"
   ]
  },
  {
   "cell_type": "markdown",
   "metadata": {
    "slideshow": {
     "slide_type": "notes"
    }
   },
   "source": [
    "While there purpose for each of the replica set notions is to provide fault tollerance, these are pretty distinct. \n",
    "\n",
    "In a POD replication, the definition of the containers is replicate has defined, either to a different pod running in the same node or accross different nodes. \n",
    "\n",
    "In a MongoDB Replica Set, the fault tollerance and HA is also associated with a dynamic intra replica set rules and options. All nodes of a MongoDB Replica set share the exact same data, they follow a replication protocol and respond to workloads as a single shared state. \n",
    "This is generally not the case in a Kubernetes Replica Set. \n",
    "\n",
    "A nice way to distinguish these two different replica sets is to think in terms of Kubernetes replica sets as redundancy of application instances/containers, while a MongoDB replica set assures redundancy and HA of data, regardless of the specification of the instance that supports that service, although all nodes only run a mongodb binary."
   ]
  },
  {
   "cell_type": "markdown",
   "metadata": {
    "slideshow": {
     "slide_type": "slide"
    }
   },
   "source": [
    "## Stateless vs Statefull\n",
    "\n",
    "![stateless vs statefull](assets/stateless_vs_statefull.png)\n"
   ]
  },
  {
   "cell_type": "markdown",
   "metadata": {
    "slideshow": {
     "slide_type": "notes"
    }
   },
   "source": [
    "One important aspect to keep in mind around cluster management, in particular scalability of clusters, concernes state and state management. \n",
    "\n",
    "In generall, container technology is extremely efficient scalling out stateless applications and systems. \n",
    "This as to do with the fact that state, data, adds density to the scalability. It tends to be more complicated to manage data then intances. \n",
    "\n",
    "And this where Kubernetes, via persistent volumes, allows containers scallability to be better aligned, not perfect with the notion of scaling systems that rely and manage state. \n",
    "\n",
    "Getting a system that excels at data management, like mongodb , combined with the scalabilty offered by kubernetes is a very appealing solution for ops professionals. "
   ]
  },
  {
   "cell_type": "markdown",
   "metadata": {
    "slideshow": {
     "slide_type": "slide"
    }
   },
   "source": [
    "## Kubernetes Operator\n",
    "\n",
    "> An Operator is a method of packaging, deploying and managing a Kubernetes application. A Kubernetes application is an application that is both deployed on Kubernetes and managed using the Kubernetes APIs and kubectl tooling.\n",
    "\n",
    "_https://coreos.com/operators/_"
   ]
  },
  {
   "attachments": {},
   "cell_type": "markdown",
   "metadata": {
    "slideshow": {
     "slide_type": "subslide"
    }
   },
   "source": [
    "## MongoDB Enterprise Kubernetes Operator (beta)\n",
    "\n",
    "> The Operator enables easy deploys of MongoDB into Kubernetes clusters, using our management, monitoring and backup platforms, Ops Manager and Cloud Manager. By installing this integration, you will be able to deploy MongoDB instances with a single simple command.\n",
    "\n",
    "_https://github.com/mongodb/mongodb-enterprise-kubernetes_"
   ]
  },
  {
   "cell_type": "markdown",
   "metadata": {
    "slideshow": {
     "slide_type": "subslide"
    }
   },
   "source": [
    "### MongoDB Enterprise Kubernetes - Main Benefits\n",
    "\n",
    "* Quick, declarative definition of what MongoDB services you want\n",
    "* Auto-healing, using Kubernetes reliability features\n",
    "* Easy to scale up / scale down \n"
   ]
  },
  {
   "cell_type": "markdown",
   "metadata": {
    "slideshow": {
     "slide_type": "slide"
    }
   },
   "source": [
    "## All Together Now!\n",
    "\n",
    "![All Together Now](https://upload.wikimedia.org/wikipedia/en/c/cd/All_Together_Now_cover.jpg)\n"
   ]
  },
  {
   "cell_type": "markdown",
   "metadata": {
    "slideshow": {
     "slide_type": "subslide"
    }
   },
   "source": [
    "## Kubernetes + Cloud/Ops Manager \n",
    "\n",
    "![kubernetes ops manager deployment](assets/k8s_opsmanager_diagram.png)\n"
   ]
  },
  {
   "cell_type": "markdown",
   "metadata": {
    "slideshow": {
     "slide_type": "subslide"
    }
   },
   "source": [
    "#### Step 1 - Create Kubernetes Cluster and Cloud/Ops Manager Instance\n",
    "![step 1](assets/k8s_opsmanager_step1.png)"
   ]
  },
  {
   "cell_type": "markdown",
   "metadata": {
    "slideshow": {
     "slide_type": "subslide"
    }
   },
   "source": [
    "#### Step 2 - Install Enterprise Kubernetes Operator\n",
    "![step 2](assets/k8s_opsmanager_step2.png)"
   ]
  },
  {
   "cell_type": "markdown",
   "metadata": {
    "slideshow": {
     "slide_type": "subslide"
    }
   },
   "source": [
    "#### Step 3  - Apply deployment\n",
    "![step 3](assets/k8s_opsmanager_step3.png)"
   ]
  },
  {
   "cell_type": "markdown",
   "metadata": {
    "slideshow": {
     "slide_type": "subslide"
    }
   },
   "source": [
    "#### Step 4 - Setup Deployment PODs and Agents\n",
    "![step 4](assets/k8s_opsmanager_step4.png)"
   ]
  },
  {
   "cell_type": "markdown",
   "metadata": {
    "slideshow": {
     "slide_type": "subslide"
    }
   },
   "source": [
    "#### Step 5 - Cluster Up and Running Managed by Cloud/Ops Manager\n",
    "![step 5](assets/k8s_opsmanager_diagram.png)"
   ]
  },
  {
   "cell_type": "code",
   "execution_count": null,
   "metadata": {
    "slideshow": {
     "slide_type": "skip"
    }
   },
   "outputs": [],
   "source": [
    "from IPython.display import YouTubeVideo \n",
    "video_id = \"e9ENv0l6_bc\"\n",
    "YouTubeVideo(video_id, 400, 300, start=30)\n"
   ]
  },
  {
   "cell_type": "markdown",
   "metadata": {
    "slideshow": {
     "slide_type": "slide"
    }
   },
   "source": [
    "## Let's do it!"
   ]
  },
  {
   "cell_type": "markdown",
   "metadata": {
    "slideshow": {
     "slide_type": "slide"
    }
   },
   "source": [
    "### Methods and Materials\n",
    "\n",
    "- ``minikube``\n",
    "- ``kubectl``\n",
    "- ``docker``\n",
    "- ``mongodb-enterprise-kubernetes``\n",
    "- ``ops manager | cloud manager``\n"
   ]
  },
  {
   "cell_type": "markdown",
   "metadata": {
    "slideshow": {
     "slide_type": "notes"
    }
   },
   "source": [
    "An to keep my promisse, these are some of the tools that I'll be exploring in this session. \n",
    "\n",
    "In this presentation I'll be assembling a kubernetes cluster and configuring the necessary operator to interact and deploy a MongoDB cluster, in the k8s using opsmanager. \n",
    "For that I'll be making use of a few pre-installed tools. \n",
    "\n",
    "* ``minikue`` - localhost kubernetes test cluster\n",
    "* ``kubectl`` - commandline tool for managing and interacting with the k8s cluster \n",
    "* ``ops manager`` - vagrant box that deploys ops manager\n",
    "\n",
    "For the presentation purposes, and given that you might not have a local installation of ops manager, I'm going to use cloud manager instead. \n",
    "You will need to adjust the configuration options for your own cloud manager instance instead. \n",
    "\n",
    "* ``mongodb-enterprise-kubernetes`` - k8s mongodb official operator for ops manager\n",
    "\n",
    "The jupyter notebook version of this presentation contains all the setup and installation instructions so that you do not have to manually install every single one of these tools, if you whish to reproduce the same steps later on. "
   ]
  },
  {
   "cell_type": "markdown",
   "metadata": {
    "slideshow": {
     "slide_type": "subslide"
    }
   },
   "source": [
    "#### Presentation Source Notebook\n",
    "\n",
    "https://github.com/nleite/opsmgrk8s"
   ]
  },
  {
   "cell_type": "markdown",
   "metadata": {
    "slideshow": {
     "slide_type": "notes"
    }
   },
   "source": [
    "which you can download / clone / reproduce by looking into this link. \n"
   ]
  },
  {
   "cell_type": "markdown",
   "metadata": {
    "slideshow": {
     "slide_type": "subslide"
    }
   },
   "source": [
    "### ``minikube``\n",
    "\n",
    "```sh\n",
    "minikube [command]\n",
    "```"
   ]
  },
  {
   "cell_type": "markdown",
   "metadata": {
    "slideshow": {
     "slide_type": "notes"
    }
   },
   "source": [
    "Minikube allows us to create a local cluster using a virtual machine to support it.\n",
    "\n",
    "Since k8s manages clusters, we might need one of those.\n",
    "\n",
    "``minikube`` takes a command argument for execution. "
   ]
  },
  {
   "cell_type": "code",
   "execution_count": null,
   "metadata": {
    "slideshow": {
     "slide_type": "subslide"
    }
   },
   "outputs": [],
   "source": [
    "%%bash\n",
    "\n",
    "brew cask install minikube"
   ]
  },
  {
   "cell_type": "markdown",
   "metadata": {
    "slideshow": {
     "slide_type": "notes"
    }
   },
   "source": [
    "Then we have to install ``minikube``\n",
    "\n",
    "* https://github.com/kubernetes/minikube/releases"
   ]
  },
  {
   "cell_type": "code",
   "execution_count": null,
   "metadata": {
    "slideshow": {
     "slide_type": "subslide"
    }
   },
   "outputs": [],
   "source": [
    "%%bash\n",
    "\n",
    "minikube --help"
   ]
  },
  {
   "cell_type": "markdown",
   "metadata": {
    "slideshow": {
     "slide_type": "notes"
    }
   },
   "source": [
    "There are several different commands for minikube, I invite you all to explore the full set of functionallity that minikube supports, if that's your cup of tea, but for this talk purposes, we are just going to go ahead and start a minikube cluster."
   ]
  },
  {
   "cell_type": "markdown",
   "metadata": {
    "slideshow": {
     "slide_type": "subslide"
    }
   },
   "source": [
    "#### Start minikube\n",
    "\n",
    "```bash\n",
    "minikube start \n",
    "```"
   ]
  },
  {
   "cell_type": "code",
   "execution_count": null,
   "metadata": {
    "slideshow": {
     "slide_type": "subslide"
    }
   },
   "outputs": [],
   "source": [
    "%%bash\n",
    "\n",
    "minikube status"
   ]
  },
  {
   "cell_type": "markdown",
   "metadata": {
    "slideshow": {
     "slide_type": "notes"
    }
   },
   "source": [
    "Once we have our local k8s cluster up and running we can move along to the next step. \n",
    "Locally installing the mongodb enterprise kubernetes operator. "
   ]
  },
  {
   "cell_type": "markdown",
   "metadata": {
    "slideshow": {
     "slide_type": "subslide"
    }
   },
   "source": [
    "### ``kubectl``\n",
    "\n",
    "```sh\n",
    "kubectl [command] [TYPE] [NAME] [flags]\n",
    "```"
   ]
  },
  {
   "cell_type": "markdown",
   "metadata": {
    "slideshow": {
     "slide_type": "notes"
    }
   },
   "source": [
    "``kubectl`` takes a command, a type, a name and a set of optional flags\n",
    "\n",
    "K8s allows for several commands of different types. \n",
    "You can also think of commands as verbs or actions.\n",
    "Things like\n",
    "\n",
    "- create\n",
    "- expose\n",
    "- get\n",
    "- describe\n",
    "- ...\n",
    "\n",
    "are all basic commands.\n",
    "\n",
    "Each verb / command can be applied to a resource type, and there are several different available resource types:\n",
    "- https://kubernetes.io/docs/reference/kubectl/overview/#resource-types"
   ]
  },
  {
   "cell_type": "code",
   "execution_count": null,
   "metadata": {
    "slideshow": {
     "slide_type": "subslide"
    }
   },
   "outputs": [],
   "source": [
    "%%bash\n",
    "brew install kubectl"
   ]
  },
  {
   "cell_type": "markdown",
   "metadata": {
    "slideshow": {
     "slide_type": "notes"
    }
   },
   "source": [
    "With this instruction we can install ``kubectl`` on macos. \n",
    "\n",
    "For other systems follow the installation guide: \n",
    "\n",
    "- https://kubernetes.io/docs/tasks/tools/install-kubectl/ "
   ]
  },
  {
   "cell_type": "code",
   "execution_count": null,
   "metadata": {
    "slideshow": {
     "slide_type": "subslide"
    }
   },
   "outputs": [],
   "source": [
    "%%bash\n",
    "\n",
    "kubectl get nodes"
   ]
  },
  {
   "cell_type": "code",
   "execution_count": null,
   "metadata": {
    "scrolled": true,
    "slideshow": {
     "slide_type": "subslide"
    }
   },
   "outputs": [],
   "source": [
    "%%bash\n",
    "\n",
    "kubectl get pods"
   ]
  },
  {
   "cell_type": "markdown",
   "metadata": {
    "slideshow": {
     "slide_type": "notes"
    }
   },
   "source": [
    "Using kubectl I can easily get information about the nodes that are currently running in my local cluster. \n",
    "\n",
    "    while delivering this talk you can show the dynamic nature of this presentation format by changing the command from this current node to the following instruction \n",
    "    \n",
    "    kubectl get nodes -o json \n",
    "    \n",
    "    This will generate a quite large output that you can skip iterating on\n",
    "    \n",
    "In my case, I have only one member in the cluster, minikube, which is readily available and has the master role. "
   ]
  },
  {
   "cell_type": "markdown",
   "metadata": {
    "slideshow": {
     "slide_type": "subslide"
    }
   },
   "source": [
    "### `docker`\n",
    "\n",
    "```bash\n",
    "docker COMMAND\n",
    "```\n",
    "\n",
    "https://docs.docker.com/docker-for-mac/"
   ]
  },
  {
   "cell_type": "markdown",
   "metadata": {
    "slideshow": {
     "slide_type": "subslide"
    }
   },
   "source": [
    "#### Use `minikube` container runtime (docker daemon)\n",
    "\n",
    "```bash\n",
    "minikube docker-env \n",
    "```"
   ]
  },
  {
   "cell_type": "markdown",
   "metadata": {
    "slideshow": {
     "slide_type": "notes"
    }
   },
   "source": [
    "But before building the container image of our application, we are going to redirect your docker client to connect to minikube's container runtime, minikube has its own docker daemon."
   ]
  },
  {
   "cell_type": "markdown",
   "metadata": {
    "slideshow": {
     "slide_type": "subslide"
    }
   },
   "source": [
    "#### Build an Image\n",
    "\n",
    "```bash\n",
    "# builds the mflix image\n",
    "docker build -t mflix mflix\n",
    "\n",
    "# lists the list of existing images\n",
    "docker images\n",
    "```"
   ]
  },
  {
   "cell_type": "markdown",
   "metadata": {
    "slideshow": {
     "slide_type": "notes"
    }
   },
   "source": [
    "Builds the `mflix` image from defined in the `mflix/Dockerfile` "
   ]
  },
  {
   "cell_type": "code",
   "execution_count": null,
   "metadata": {
    "slideshow": {
     "slide_type": "subslide"
    }
   },
   "outputs": [],
   "source": [
    "%%bash\n",
    "minikube docker-env \n",
    "\n",
    "# eval $(minikube docker-env )"
   ]
  },
  {
   "cell_type": "code",
   "execution_count": null,
   "metadata": {
    "slideshow": {
     "slide_type": "subslide"
    }
   },
   "outputs": [],
   "source": [
    "%%bash\n",
    "\n",
    "docker build -t mflix mflix\n",
    "\n",
    "docker images"
   ]
  },
  {
   "cell_type": "markdown",
   "metadata": {
    "slideshow": {
     "slide_type": "subslide"
    }
   },
   "source": [
    "#### Run a Container\n",
    "\n",
    "```bash\n",
    "# run a container\n",
    "docker run -d -p 8500:5000 mflix\n",
    "\n",
    "# list running containers\n",
    "docker ps\n",
    "```"
   ]
  },
  {
   "cell_type": "markdown",
   "metadata": {
    "slideshow": {
     "slide_type": "notes"
    }
   },
   "source": [
    "This command initializes a container, using the mflix container image in detached mode, mapping the container exposed port 5000 to host port 8500 "
   ]
  },
  {
   "cell_type": "code",
   "execution_count": null,
   "metadata": {
    "slideshow": {
     "slide_type": "subslide"
    }
   },
   "outputs": [],
   "source": [
    "%%bash\n",
    "\n",
    "docker run -d -p 8500:5000 mflix\n",
    "  \n",
    "docker ps --format \"table {{.ID}}\\t{{.Image}}\""
   ]
  },
  {
   "cell_type": "code",
   "execution_count": null,
   "metadata": {
    "slideshow": {
     "slide_type": "notes"
    }
   },
   "outputs": [],
   "source": [
    "%%bash\n",
    "# execute this line to stop the previously launched container\n",
    "docker ps --quiet | xargs docker container stop "
   ]
  },
  {
   "cell_type": "code",
   "execution_count": null,
   "metadata": {
    "slideshow": {
     "slide_type": "subslide"
    }
   },
   "outputs": [],
   "source": [
    "%%bash\n",
    "\n",
    "cat mflix-deployment.yaml"
   ]
  },
  {
   "cell_type": "markdown",
   "metadata": {
    "slideshow": {
     "slide_type": "subslide"
    }
   },
   "source": [
    "### Install MongoDB Enterprise Operator \n",
    "```bash\n",
    "git clone https://github.com/mongodb/mongodb-enterprise-kubernetes.git\n",
    "```\n",
    "\n",
    "https://docs.opsmanager.mongodb.com/current/tutorial/install-k8s-operator/"
   ]
  },
  {
   "cell_type": "markdown",
   "metadata": {
    "slideshow": {
     "slide_type": "notes"
    }
   },
   "source": [
    "To install the ``mongodb-enterprise-kubernetes`` we recommend you clone the repository locally. \n",
    "\n",
    "We are going to look into the what an kubernetes operator is and how the ``mongodb-enterprise-kubernetes`` operator works.\n",
    "For now we can simply clone the the repository and follow the installation instructions: \n",
    "\n",
    "* https://docs.opsmanager.mongodb.com/current/tutorial/install-k8s-operator/\n"
   ]
  },
  {
   "cell_type": "markdown",
   "metadata": {
    "slideshow": {
     "slide_type": "subslide"
    }
   },
   "source": [
    "#### Cloud Manager Organization / Project\n",
    "https://www.mongodb.com/cloud/cloud-manager\n",
    "![Cloud Manager Project Dashboard](assets/cloud_manager_project.png)"
   ]
  },
  {
   "cell_type": "markdown",
   "metadata": {
    "slideshow": {
     "slide_type": "notes"
    }
   },
   "source": [
    "You can think of Cloud Manager as the hosted version of Ops Manager, which is very handy for the purposes of this presentation, given that it removes the need for a local deployment of Ops Manager. \n",
    "\n",
    "Not expecting you to do it right now, but feel free to try it out, you can start a 30-day free trial of Cloud Manager, if you want to reproduce all of the configuration setup that I'm about to show you. "
   ]
  },
  {
   "cell_type": "markdown",
   "metadata": {
    "slideshow": {
     "slide_type": "slide"
    }
   },
   "source": [
    "## Recap\n",
    "\n",
    "- Basic overview of Kubernetes components and architecture \n",
    "- How to locally install a Kubernetes cluster \n",
    "- How to deploy containarized applications in Kubernetes \n",
    "- How to deploy and manage a MongoDB Cluster in Kubernetes \n",
    "- How to integrate Ops Manager | Cloud Manager with Kubernetes"
   ]
  },
  {
   "cell_type": "markdown",
   "metadata": {
    "slideshow": {
     "slide_type": "subslide"
    }
   },
   "source": [
    "### References and Glossory\n",
    "\n",
    "* [kubectl documentation](https://kubernetes.io/docs/reference/kubectl/kubectl/)\n",
    "* [kubernetes node]()\n",
    "* [kubeadm documentation](https://kubernetes.io/docs/setup/independent/high-availability/#external-etcd)\n",
    "* MongoDB Enterprise Kubernetes Operator \n",
    "    * [Installation tutorial](https://docs.opsmanager.mongodb.com/current/tutorial/install-k8s-operator/)\n",
    "    * [Source code repository](https://github.com/mongodb/mongodb-enterprise-kubernetes)  "
   ]
  },
  {
   "cell_type": "markdown",
   "metadata": {
    "slideshow": {
     "slide_type": "slide"
    }
   },
   "source": [
    "## QA ? / Notes / Thank You!"
   ]
  }
 ],
 "metadata": {
  "celltoolbar": "Slideshow",
  "kernelspec": {
   "display_name": "Python 3",
   "language": "python",
   "name": "python3"
  },
  "language_info": {
   "codemirror_mode": {
    "name": "ipython",
    "version": 3
   },
   "file_extension": ".py",
   "mimetype": "text/x-python",
   "name": "python",
   "nbconvert_exporter": "python",
   "pygments_lexer": "ipython3",
   "version": "3.7.0"
  },
  "toc": {
   "base_numbering": 1,
   "nav_menu": {},
   "number_sections": false,
   "sideBar": true,
   "skip_h1_title": false,
   "title_cell": "Table of Contents",
   "title_sidebar": "Contents",
   "toc_cell": false,
   "toc_position": {},
   "toc_section_display": true,
   "toc_window_display": false
  }
 },
 "nbformat": 4,
 "nbformat_minor": 2
}
