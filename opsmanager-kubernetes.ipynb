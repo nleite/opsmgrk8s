{
 "cells": [
  {
   "cell_type": "markdown",
   "metadata": {
    "slideshow": {
     "slide_type": "slide"
    }
   },
   "source": [
    "# MongoDB Enterprise Kubernetes Operator"
   ]
  },
  {
   "cell_type": "markdown",
   "metadata": {
    "slideshow": {
     "slide_type": "slide"
    }
   },
   "source": [
    "## Agenda \n",
    "\n",
    "- High level overview of Kubernetes\n",
    "- Kubernetes Cluster vs MongoDB Cluster\n",
    "- Statefull vs Stateless Replication \n",
    "- Kubernetes Operators\n",
    "- Ops Manager Kubernetes Operator\n",
    "- Build a local cluster along the way\n"
   ]
  },
  {
   "cell_type": "markdown",
   "metadata": {
    "slideshow": {
     "slide_type": "slide"
    }
   },
   "source": [
    "## `> whoami`\n",
    "\n",
    "![Norberto Leite](assets/DT5hO0_u_400x400.jpg) \n",
    "\n",
    "```json\n",
    "{\n",
    "    \"name\": \"Norberto Leite\", \n",
    "    \"position\": \"Lead Engineer\", \n",
    "    \"team\": \"Curriculum, Engineering\"\n",
    "}\n",
    "```\n",
    "\n",
    "### [@nleite](https://twitter.com/nleite)"
   ]
  },
  {
   "cell_type": "markdown",
   "metadata": {
    "slideshow": {
     "slide_type": "subslide"
    }
   },
   "source": [
    "### Disclaimer\n",
    "\n",
    "> This is a buzzword intensive presentation but by no means intended to trick you into thinking I'm a very smart person! Buzzwords just sound nice when put together...\n"
   ]
  },
  {
   "cell_type": "markdown",
   "metadata": {
    "slideshow": {
     "slide_type": "slide"
    }
   },
   "source": [
    "## Kubernetes\n",
    "\n",
    "![Kubernetes Logo](assets/kubernetes_logo.png)"
   ]
  },
  {
   "cell_type": "markdown",
   "metadata": {
    "slideshow": {
     "slide_type": "subslide"
    }
   },
   "source": [
    "### Kubernetes Vendor Ecosystem\n",
    "\n",
    "![Kubernetes Vendors](assets/k8t_new.jpg)\n",
    "\n",
    "> https://blog.spotinst.com/2018/05/20/kubernetes-ecosystem/"
   ]
  },
  {
   "cell_type": "markdown",
   "metadata": {
    "slideshow": {
     "slide_type": "subslide"
    }
   },
   "source": [
    "### Definition\n",
    "\n",
    "Kubernetes is an open-source container-orchestration system for automating deployment, scaling and management of containerized applications. It was originally designed by Google and is now maintained by the Cloud Native Computing Foundation\n",
    "\n",
    "![Kubernetes Definition](assets/kubernetes_definition.png)"
   ]
  },
  {
   "cell_type": "markdown",
   "metadata": {
    "slideshow": {
     "slide_type": "subslide"
    }
   },
   "source": [
    "#### Kubernetes Objects\n",
    "\n",
    "- pods\n",
    "- replicasets\n",
    "- persistentvolumeclaims\n",
    "- persistentvolumes\n",
    "- nodes\n",
    "- storageclasses\n",
    "- clusters\n",
    "- ...\n",
    "\n",
    "https://kubernetes.io/docs/concepts/overview/working-with-objects/kubernetes-objects/"
   ]
  },
  {
   "cell_type": "markdown",
   "metadata": {
    "slideshow": {
     "slide_type": "subslide"
    }
   },
   "source": [
    "### Kubernetes is *for* Containers => *Virginia is for Lovers*\n",
    "\n",
    "Kubernetes is an open-source **`container`**-orchestration system for automating deployment, scaling and management of **`containerized applications`**. It was originally designed by Google and is now maintained by the Cloud Native Computing Foundation\n",
    "\n",
    "![Kubernetes Definition](assets/kubernetes_definition.png) | ![Virginia Is For Lovers Sign](assets/Welcome_to_Virginia_Sign.jpg)\n",
    "----- | -----\n"
   ]
  },
  {
   "cell_type": "markdown",
   "metadata": {
    "slideshow": {
     "slide_type": "notes"
    }
   },
   "source": [
    "Kubernetes uses containers. Well, we can say that kubernetes loves containers. \n",
    "Deploys and manages containers and containerized applications \n",
    "\n",
    "Kubernetes has standardized the container definition on the Docker format. "
   ]
  },
  {
   "cell_type": "markdown",
   "metadata": {
    "slideshow": {
     "slide_type": "subslide"
    }
   },
   "source": [
    "### Container Definition\n",
    "\n",
    "```yaml\n",
    "# base image of java image container\n",
    "FROM java:8\n",
    "# port number the container exposes\n",
    "EXPOSE 90000\n",
    "# make the jar file available in the container image\n",
    "COPY mflix-1.0-SNAPSHOT.jar ./mflix-1.0-SNAPSHOT.jar\n",
    "# application run command\n",
    "CMD [\"java\", \"-jar\", \"./mflix-1.0-SNAPSHOT.jar\"]\n",
    "```"
   ]
  },
  {
   "cell_type": "markdown",
   "metadata": {
    "slideshow": {
     "slide_type": "notes"
    }
   },
   "source": [
    "In this file we can see an example of a Docker image file. \n",
    "Sets the instructions to load, expose and execute containarized applications or instances. \n",
    "\n",
    "The Docker images are hiearchical, this means that we can compose images uppon each other, inheriting the configuration and image setup\n",
    "\n",
    "In this example we are creating a container image using as baseline a Java image."
   ]
  },
  {
   "cell_type": "markdown",
   "metadata": {
    "slideshow": {
     "slide_type": "subslide"
    }
   },
   "source": [
    "### Image vs Container\n",
    "\n",
    "An `image` determines what and how to run, using/inherinting which requierements and the default configuration of a **containerized application**\n",
    "\n",
    "\n",
    "A `container` is the the **runtime** execution of a built Docker image."
   ]
  },
  {
   "cell_type": "markdown",
   "metadata": {
    "slideshow": {
     "slide_type": "subslide"
    }
   },
   "source": [
    "### Image vs Container Diagram\n",
    "![Image vs Container](assets/vGuay.png)\n",
    "\n",
    "> https://stackoverflow.com/questions/23735149/what-is-the-difference-between-a-docker-image-and-a-container"
   ]
  },
  {
   "cell_type": "markdown",
   "metadata": {
    "slideshow": {
     "slide_type": "subslide"
    }
   },
   "source": [
    "### Kubernetes Manages Containers\n",
    "\n",
    "Kubernetes is an open-source container-**`orchestration`** system for **`automating deployment, scaling and management`** of containerized applications. It was originally designed by Google and is now maintained by the Cloud Native Computing Foundation\n",
    "\n",
    "![kubernetes_definition](assets/kubernetes_definition.png)"
   ]
  },
  {
   "cell_type": "markdown",
   "metadata": {
    "slideshow": {
     "slide_type": "notes"
    }
   },
   "source": [
    "Aside from running containers, Kubernetes is also capable of defining the rules of when to start/stop containers, how containers communicate with one another, how we scale deployments, how to upgrade versions of containers, how to provide HA and fault-tolerance and where to place different containers into different nodes / machines."
   ]
  },
  {
   "cell_type": "markdown",
   "metadata": {
    "slideshow": {
     "slide_type": "slide"
    }
   },
   "source": [
    "## Kubernetes Architecture\n",
    "\n",
    "\n",
    "\n",
    "![Kubernetes Architecture](assets/general_k8s_archictecture19_10.png)"
   ]
  },
  {
   "cell_type": "markdown",
   "metadata": {
    "slideshow": {
     "slide_type": "notes"
    }
   },
   "source": [
    "On a high level, kubernetes can be represented by something similar to this diagram. \n",
    "\n",
    "For each Kubernetes cluster, we will have master node, which holds a set of important components of the architecture: \n",
    "\n",
    "- kube-scheduler \n",
    "- kube-control-manager \n",
    "- kube-apiserver \n",
    "- etcd \n",
    "- kubelet\n",
    "- kube-proxy\n",
    "\n",
    "Each of these I'll provide the relevant links for the exact function within a k8s cluster, however the names of these components are pretty self explanatory. \n",
    "The unusual one, that might be a bit more criptic in terms of meaning, given that the name might mean very different things, is etcd, which is an HA key value store, that Kubernetes uses for all cluster data. \n",
    "You can think of `etcd` as the config server in a MongoDB sharded cluster, which may or may not be set to run within the master node at all. It can run on it's own separate node.  \n",
    "You will find all the relevant links at the end of this presentation.\n",
    "\n",
    "But in essence, the master node runs a fair amount of different processes. \n",
    "\n",
    "https://github.com/kubernetes/community/blob/master/contributors/design-proposals/architecture/architecture.md#the-kubernetes-node"
   ]
  },
  {
   "cell_type": "markdown",
   "metadata": {
    "slideshow": {
     "slide_type": "subslide"
    }
   },
   "source": [
    "### Multi-master Kubernetes with ``kubeadm``\n",
    "![Kubernetes HA archictecture](assets/general_k8s_archictecture_multimaster.png)"
   ]
  },
  {
   "cell_type": "markdown",
   "metadata": {
    "slideshow": {
     "slide_type": "notes"
    }
   },
   "source": [
    "Given the previous diagram, you might been thinking\n",
    "\n",
    "> this Kubernetes cluster thing does not seem to be too scalable, how in this day an age does a cluster have only one master. \n",
    "\n",
    "Well, fear not, kubernetes does have a way to avoid single points of failure using ``kubeadm``. \n",
    "This is out-of-scope for this talk, but keep in mind that this alone can be setup in several different architectures. \n",
    "\n",
    "Bottom line is that kubernetes can be set to run in an HA mode."
   ]
  },
  {
   "cell_type": "markdown",
   "metadata": {
    "slideshow": {
     "slide_type": "slide"
    }
   },
   "source": [
    "### Kubernetes Node \n",
    "![formely know as minion](assets/k8s_node_diagram.png)"
   ]
  },
  {
   "cell_type": "markdown",
   "metadata": {
    "slideshow": {
     "slide_type": "notes"
    }
   },
   "source": [
    "Kubernetes is a cluster, therefore \n",
    "> there will be dragons! \n",
    "\n",
    "Not really, but there will be nodes. \n",
    "Aside from the previously aluded Master node, or several of these master nodes, k8s also has worker nodes, previously known as ``minions``\n",
    "\n",
    "K8s nodes can have serveral different specs. We can compose a k8s cluster with physical, virtual and cloud server nodes. \n",
    "Although, like in any systems archicture, consistency tends to be benefitial on the long term, a k8s cluster can be composed by a very diverse set of server instance specs. \n",
    "|\n",
    "Each node is composed with the necessary processes to run ``pods``. \n",
    "Each has a container runtime, generally docker, to allow the nodes to deploy and run containers.\n"
   ]
  },
  {
   "cell_type": "markdown",
   "metadata": {
    "slideshow": {
     "slide_type": "slide"
    }
   },
   "source": [
    "### Kubernetes POD\n",
    "\n",
    "![POD Diagram](assets/k8s_pod_diagram.png)\n",
    "\n",
    "https://kubernetes.io/docs/concepts/workloads/pods/pod/"
   ]
  },
  {
   "cell_type": "markdown",
   "metadata": {
    "slideshow": {
     "slide_type": "notes"
    }
   },
   "source": [
    "A POD is the smallest deployable unit of computing in Kubernetes. \n",
    "\n",
    "Can be composed of one or several different containers, a group of containers, and allows the definition of shared network and storage, and how to run the set of containers that compose the POD. "
   ]
  },
  {
   "cell_type": "markdown",
   "metadata": {
    "slideshow": {
     "slide_type": "subslide"
    }
   },
   "source": [
    "### Kubernetes ReplicaSet - Across Nodes\n",
    "\n",
    "![replica set across different nodes](assets/k8s_replicaset_multiplenodes_diagram.png)\n",
    "https://kubernetes.io/docs/concepts/workloads/controllers/replicaset/"
   ]
  },
  {
   "cell_type": "markdown",
   "metadata": {
    "slideshow": {
     "slide_type": "notes"
    }
   },
   "source": [
    "Kubernetes allows for pods to be fault tolerant and highly available. This managed via ReplicaSes (familiar name!) \n",
    "\n",
    "We can define PODs replica sets across nodes"
   ]
  },
  {
   "cell_type": "markdown",
   "metadata": {
    "slideshow": {
     "slide_type": "subslide"
    }
   },
   "source": [
    "### Kubernetes ReplicaSet - Single Node\n",
    "\n",
    "![replica set single node](assets/k8s_replicaset_singlenode_diagram.png)"
   ]
  },
  {
   "cell_type": "markdown",
   "metadata": {
    "slideshow": {
     "slide_type": "notes"
    }
   },
   "source": [
    "Or within a single node. \n",
    "This is model that we are going to setup today."
   ]
  },
  {
   "cell_type": "markdown",
   "metadata": {
    "slideshow": {
     "slide_type": "slide"
    }
   },
   "source": [
    "### Kubernetes Service \n",
    "\n",
    "![Kubernetes Service](assets/k8s_service_diagram.png)\n",
    "https://kubernetes.io/docs/concepts/services-networking/service/"
   ]
  },
  {
   "cell_type": "markdown",
   "metadata": {
    "slideshow": {
     "slide_type": "notes"
    }
   },
   "source": [
    "Services are a speciall type of POD that that other PODs relly on to operate. \n",
    "Now, by default PODs are mortal and get resurected dynamically, and they subject to constant change in terms of their deployment composition, number of replica nodes etc. \n",
    "This can cause issues to other PODs if those rely in some guarantees and pre-defined configuration. \n",
    "\n",
    "A Kubernetes Service is an abstraction which defines a logical set of PODs and a policy by which to access them. You find Services as relliable and consistent PODs to support other PODs.\n",
    "\n"
   ]
  },
  {
   "cell_type": "markdown",
   "metadata": {
    "slideshow": {
     "slide_type": "slide"
    }
   },
   "source": [
    "## Ops Manager / Cloud Manager\n",
    "\n",
    "![ops manager diagram](assets/ops_manager_diagram.png)"
   ]
  },
  {
   "cell_type": "markdown",
   "metadata": {
    "slideshow": {
     "slide_type": "notes"
    }
   },
   "source": [
    "MongoDB Ops Manager is a MongoDB on-prem solution for managing MongoDB Cluster deployments. \n",
    "Allows for an holistic management of all things related with MongoDB\n",
    "\n",
    "- updates\n",
    "- scaling up and down\n",
    "- user management and integration \n",
    "- node deployment \n",
    "- role management \n",
    "\n",
    "Across you datacenter.\n",
    "\n",
    "And there are several particular aspects of a MongoDB Cluster that need care and attention, something that ops manager takes care of in a very efficient way. "
   ]
  },
  {
   "cell_type": "markdown",
   "metadata": {
    "slideshow": {
     "slide_type": "subslide"
    }
   },
   "source": [
    "### Cloud / Ops Manager - Monitoring\n",
    "\n",
    "![Ops Manager Monitoring](assets/opsmanager_monitoring.png)"
   ]
  },
  {
   "cell_type": "markdown",
   "metadata": {
    "slideshow": {
     "slide_type": "subslide"
    }
   },
   "source": [
    "### Cloud / Ops Manager - Automation\n",
    "\n",
    "![Ops Manager Automation](assets/ops_manager_automation.png)"
   ]
  },
  {
   "cell_type": "markdown",
   "metadata": {
    "slideshow": {
     "slide_type": "subslide"
    }
   },
   "source": [
    "### Cloud / Ops Manager - Backup \n",
    "\n",
    "![Ops Manager Backup](assets/opsmanager_backup.png)"
   ]
  },
  {
   "cell_type": "markdown",
   "metadata": {
    "slideshow": {
     "slide_type": "subslide"
    }
   },
   "source": [
    "### Cloud / Ops Manager Agents\n",
    "\n",
    "![Ops Manager Agents](assets/opscloud_manager_agents.png)"
   ]
  },
  {
   "cell_type": "markdown",
   "metadata": {
    "slideshow": {
     "slide_type": "slide"
    }
   },
   "source": [
    "## Kubernetes Cluster vs MongoDB Cluster\n",
    "\n",
    "![Kubernetes vs MongoDB Cluster](assets/k8s_mongodb_cluster.png)"
   ]
  },
  {
   "cell_type": "markdown",
   "metadata": {
    "slideshow": {
     "slide_type": "notes"
    }
   },
   "source": [
    "There are several similar notions and definitions between a Kubernetes cluster and a MongoDB cluster. \n",
    "\n",
    "But the devil is in the details and in the functionality of each of these clusters. \n"
   ]
  },
  {
   "cell_type": "markdown",
   "metadata": {
    "slideshow": {
     "slide_type": "subslide"
    }
   },
   "source": [
    "### Cluster Concepts \n",
    "\n",
    "- MongoDB Replica Set \n",
    "\n",
    "- Kubernetes Replica Set \n",
    "\n",
    "- MongoDB Node \n",
    "\n",
    "- Kubernetes Node"
   ]
  },
  {
   "cell_type": "markdown",
   "metadata": {
    "slideshow": {
     "slide_type": "subslide"
    }
   },
   "source": [
    "### Kubernetes Node vs MongoDB Node\n",
    "\n",
    "![Kubernetes Nodes vs MongoDB Nodes](assets/k8s_nodes_mongodb_nodes.png)\n"
   ]
  },
  {
   "cell_type": "markdown",
   "metadata": {
    "slideshow": {
     "slide_type": "subslide"
    }
   },
   "source": [
    "### MongoDB Nodes in a Kubernetes Node\n",
    "\n",
    "![Kubernetes MongoDB POD](assets/k8s_nodes_mongodb_pod.png)\n"
   ]
  },
  {
   "cell_type": "markdown",
   "metadata": {
    "slideshow": {
     "slide_type": "subslide"
    }
   },
   "source": [
    "### Kubernetes ReplicaSet vs MongoDB ReplicaSet\n",
    "\n",
    "![Replica Sets](assets/k8s_replicaset_mdb_replicaset.png)"
   ]
  },
  {
   "cell_type": "markdown",
   "metadata": {
    "slideshow": {
     "slide_type": "notes"
    }
   },
   "source": [
    "While there purpose for each of the replica set notions is to provide fault tollerance, these are pretty distinct. \n",
    "\n",
    "In a POD replication, the definition of the containers is replicate has defined, either to a different pod running in the same node or accross different nodes. \n",
    "\n",
    "In a MongoDB Replica Set, the fault tollerance and HA is also associated with a dynamic intra replica set rules and options. All nodes of a MongoDB Replica set share the exact same data, they follow a replication protocol and respond to workloads as a single shared state. \n",
    "This is generally not the case in a Kubernetes Replica Set. \n",
    "\n",
    "A nice way to distinguish these two different replica sets is to think in terms of Kubernetes replica sets as redundancy of application instances/containers, while a MongoDB replica set assures redundancy and HA of data, regardless of the specification of the instance that supports that service, although all nodes only run a mongodb binary."
   ]
  },
  {
   "cell_type": "markdown",
   "metadata": {
    "slideshow": {
     "slide_type": "slide"
    }
   },
   "source": [
    "## Stateless vs Statefull\n",
    "\n",
    "![Stateless vs Statefull](assets/stateless_vs_statefull.png)\n"
   ]
  },
  {
   "cell_type": "markdown",
   "metadata": {
    "slideshow": {
     "slide_type": "notes"
    }
   },
   "source": [
    "One important aspect to keep in mind around cluster management, in particular scalability of clusters, concernes state and state management. \n",
    "\n",
    "In generall, container technology is extremely efficient scalling out stateless applications and systems. \n",
    "This as to do with the fact that state, data, adds density to the scalability. It tends to be more complicated to manage data then intances. \n",
    "\n",
    "And this where Kubernetes, via persistent volumes, allows containers scallability to be better aligned, not perfect with the notion of scaling systems that rely and manage state. \n",
    "\n",
    "Getting a system that excels at data management, like mongodb , combined with the scalabilty offered by kubernetes is a very appealing solution for ops professionals. "
   ]
  },
  {
   "cell_type": "markdown",
   "metadata": {
    "slideshow": {
     "slide_type": "slide"
    }
   },
   "source": [
    "## Kubernetes Operator\n",
    "\n",
    "> An Operator is a method of packaging, deploying and managing a Kubernetes application. A Kubernetes application is an application that is both deployed on Kubernetes and managed using the Kubernetes APIs and kubectl tooling.\n",
    "\n",
    "_https://coreos.com/operators/_"
   ]
  },
  {
   "cell_type": "markdown",
   "metadata": {
    "slideshow": {
     "slide_type": "subslide"
    }
   },
   "source": [
    "## MongoDB Enterprise Kubernetes Operator (beta)\n",
    "\n",
    "> The Operator enables easy deploys of MongoDB into Kubernetes clusters, using our management, monitoring and backup platforms, Ops Manager and Cloud Manager. By installing this integration, you will be able to deploy MongoDB instances with a single simple command.\n",
    "\n",
    "_https://github.com/mongodb/mongodb-enterprise-kubernetes_"
   ]
  },
  {
   "cell_type": "markdown",
   "metadata": {
    "slideshow": {
     "slide_type": "subslide"
    }
   },
   "source": [
    "### MongoDB Enterprise Kubernetes - Main Benefits\n",
    "\n",
    "* Quick, declarative definition of what MongoDB services you want\n",
    "* Auto-healing, using Kubernetes reliability features\n",
    "* Easy to scale up / scale down \n"
   ]
  },
  {
   "cell_type": "markdown",
   "metadata": {
    "slideshow": {
     "slide_type": "slide"
    }
   },
   "source": [
    "## All Together Now!\n",
    "\n",
    "![All Together Now](assets/All_Together_Now_cover.jpg)\n",
    "\n",
    "> https://upload.wikimedia.org/wikipedia/en/c/cd/All_Together_Now_cover.jpg\n"
   ]
  },
  {
   "cell_type": "markdown",
   "metadata": {
    "slideshow": {
     "slide_type": "subslide"
    }
   },
   "source": [
    "## Kubernetes + Cloud/Ops Manager \n",
    "\n",
    "![Kubernetes + Ops Manager Deployment](assets/k8s_opsmanager_diagram.png)\n"
   ]
  },
  {
   "cell_type": "markdown",
   "metadata": {
    "slideshow": {
     "slide_type": "subslide"
    }
   },
   "source": [
    "#### Step 1 - Create Kubernetes Cluster and Cloud/Ops Manager Instance\n",
    "![Step 1 - K8S and Ops Manager Instances](assets/k8s_opsmanager_step1.png)"
   ]
  },
  {
   "cell_type": "markdown",
   "metadata": {
    "slideshow": {
     "slide_type": "subslide"
    }
   },
   "source": [
    "#### Step 2 - Install Enterprise Kubernetes Operator\n",
    "![Step 2 - Install MongoDB Enterprise Operator](assets/k8s_opsmanager_step2.png)"
   ]
  },
  {
   "cell_type": "markdown",
   "metadata": {
    "slideshow": {
     "slide_type": "subslide"
    }
   },
   "source": [
    "#### Step 3  - Apply Deployment\n",
    "![Step 3 - Apply Deployment](assets/k8s_opsmanager_step3.png)"
   ]
  },
  {
   "cell_type": "markdown",
   "metadata": {
    "slideshow": {
     "slide_type": "subslide"
    }
   },
   "source": [
    "#### Step 4 - Setup Deployment PODs and Agents\n",
    "![Step 4 - Operator installs Ops Manager agents](assets/k8s_opsmanager_step4.png)"
   ]
  },
  {
   "cell_type": "markdown",
   "metadata": {
    "slideshow": {
     "slide_type": "subslide"
    }
   },
   "source": [
    "#### Step 5 - Cluster Up and Running Managed by Cloud/Ops Manager\n",
    "![Step 5 - Full functioning cluster](assets/k8s_opsmanager_diagram.png)"
   ]
  },
  {
   "cell_type": "markdown",
   "metadata": {
    "slideshow": {
     "slide_type": "slide"
    }
   },
   "source": [
    "## Let's do it!"
   ]
  },
  {
   "cell_type": "markdown",
   "metadata": {
    "slideshow": {
     "slide_type": "subslide"
    }
   },
   "source": [
    "### Typical Image of a Kubernetes Cluster\n",
    "\n",
    "![typical kubernetes cluster image](assets/container-ship-e1497162171782.png)\n",
    "\n",
    "> http://johnmclaughlin.info/learn-kubernetes-using-minikube-docker-macos/"
   ]
  },
  {
   "cell_type": "markdown",
   "metadata": {
    "slideshow": {
     "slide_type": "notes"
    }
   },
   "source": [
    "In many different presentations and content out there, in the interwebs, you will see this typical image of big container ship and lots of containers in it. \n",
    "\n",
    "Which is nice."
   ]
  },
  {
   "cell_type": "markdown",
   "metadata": {
    "slideshow": {
     "slide_type": "subslide"
    }
   },
   "source": [
    "### This is what we are going to do today ;)\n",
    "\n",
    "![fridge containers](assets/Organized-Fridge-by-Simply-Organized-775x450.jpg)\n",
    "\n",
    "> http://www.simplyorganized.me/2017/05/video-professional-organizers-organized-fridge-freezer.html"
   ]
  },
  {
   "cell_type": "markdown",
   "metadata": {
    "slideshow": {
     "slide_type": "notes"
    }
   },
   "source": [
    "However, in the majority of cases, what you end up setting up is a small set of fridge containers. \n",
    "That's exactly what we are going to do today. "
   ]
  },
  {
   "cell_type": "markdown",
   "metadata": {
    "slideshow": {
     "slide_type": "slide"
    }
   },
   "source": [
    "### Methods and Materials\n",
    "\n",
    "- ``minikube``\n",
    "- ``kubectl``\n",
    "- ``docker``\n",
    "- ``mongodb-enterprise-kubernetes``\n",
    "- ``ops manager | cloud manager``\n"
   ]
  },
  {
   "cell_type": "markdown",
   "metadata": {
    "slideshow": {
     "slide_type": "notes"
    }
   },
   "source": [
    "An to keep my promisse, these are some of the tools that I'll be exploring in this session. \n",
    "\n",
    "In this presentation I'll be assembling a kubernetes cluster and configuring the necessary operator to interact and deploy a MongoDB cluster, in the k8s using opsmanager. \n",
    "For that I'll be making use of a few pre-installed tools. \n",
    "\n",
    "* ``minikue`` - localhost kubernetes test cluster\n",
    "* ``kubectl`` - commandline tool for managing and interacting with the k8s cluster \n",
    "* ``ops manager`` - vagrant box that deploys ops manager\n",
    "\n",
    "For the presentation purposes, and given that you might not have a local installation of ops manager, I'm going to use cloud manager instead. \n",
    "You will need to adjust the configuration options for your own cloud manager instance instead. \n",
    "\n",
    "* ``mongodb-enterprise-kubernetes`` - k8s mongodb official operator for ops manager\n",
    "\n",
    "The jupyter notebook version of this presentation contains all the setup and installation instructions so that you do not have to manually install every single one of these tools, if you whish to reproduce the same steps later on. "
   ]
  },
  {
   "cell_type": "markdown",
   "metadata": {
    "slideshow": {
     "slide_type": "subslide"
    }
   },
   "source": [
    "#### Presentation Source Notebook\n",
    "\n",
    "https://github.com/nleite/opsmgrk8s"
   ]
  },
  {
   "cell_type": "markdown",
   "metadata": {
    "slideshow": {
     "slide_type": "notes"
    }
   },
   "source": [
    "which you can download / clone / reproduce by looking into this link. \n"
   ]
  },
  {
   "cell_type": "markdown",
   "metadata": {
    "slideshow": {
     "slide_type": "slide"
    }
   },
   "source": [
    "#### Step 1 - Create Kubernetes Cluster and Cloud/Ops Manager Instance\n",
    "![Step 1 - K8S and Ops Manager Instances](assets/k8s_opsmanager_step1.png)"
   ]
  },
  {
   "cell_type": "markdown",
   "metadata": {
    "slideshow": {
     "slide_type": "subslide"
    }
   },
   "source": [
    "#### Cloud Manager Organization / Project\n",
    "https://www.mongodb.com/cloud/cloud-manager\n",
    "![Cloud Manager Project Dashboard](assets/cloud_manager_project.png)"
   ]
  },
  {
   "cell_type": "markdown",
   "metadata": {
    "slideshow": {
     "slide_type": "notes"
    }
   },
   "source": [
    "You can think of Cloud Manager as the hosted version of Ops Manager, which is very handy for the purposes of this tutorial, given that it removes the need for a local deployment of Ops Manager. \n",
    "\n",
    "Not expecting you to do it right now, but feel free to try it out, you can start a 30-day free trial of Cloud Manager, if you want to reproduce all of the configuration setup that I'm about to show you. "
   ]
  },
  {
   "cell_type": "markdown",
   "metadata": {
    "slideshow": {
     "slide_type": "slide"
    }
   },
   "source": [
    "### ``minikube``\n",
    "\n",
    "```sh\n",
    "minikube [command]\n",
    "```"
   ]
  },
  {
   "cell_type": "markdown",
   "metadata": {
    "slideshow": {
     "slide_type": "notes"
    }
   },
   "source": [
    "Minikube allows us to create a local cluster using a virtual machine to support it.\n",
    "\n",
    "Since k8s manages clusters, we might need one of those.\n",
    "\n",
    "``minikube`` takes a command argument for execution. "
   ]
  },
  {
   "cell_type": "markdown",
   "metadata": {
    "slideshow": {
     "slide_type": "subslide"
    }
   },
   "source": [
    "### Install `minikube`\n",
    "\n",
    "```sh\n",
    "brew cask install minikube\n",
    "```"
   ]
  },
  {
   "cell_type": "markdown",
   "metadata": {
    "slideshow": {
     "slide_type": "notes"
    }
   },
   "source": [
    "Then we have to install ``minikube``\n",
    "\n",
    "* https://github.com/kubernetes/minikube/releases"
   ]
  },
  {
   "cell_type": "code",
   "execution_count": 1,
   "metadata": {
    "slideshow": {
     "slide_type": "subslide"
    }
   },
   "outputs": [
    {
     "name": "stdout",
     "output_type": "stream",
     "text": [
      "Minikube is a CLI tool that provisions and manages single-node Kubernetes clusters optimized for development workflows.\n",
      "\n",
      "Usage:\n",
      "  minikube [command]\n",
      "\n",
      "Available Commands:\n",
      "  addons         Modify minikube's kubernetes addons\n",
      "  cache          Add or delete an image from the local cache.\n",
      "  completion     Outputs minikube shell completion for the given shell (bash or zsh)\n",
      "  config         Modify minikube config\n",
      "  dashboard      Access the kubernetes dashboard running within the minikube cluster\n",
      "  delete         Deletes a local kubernetes cluster\n",
      "  docker-env     Sets up docker env variables; similar to '$(docker-machine env)'\n",
      "  help           Help about any command\n",
      "  ip             Retrieves the IP address of the running cluster\n",
      "  logs           Gets the logs of the running instance, used for debugging minikube, not user code\n",
      "  mount          Mounts the specified directory into minikube\n",
      "  profile        Profile sets the current minikube profile\n",
      "  service        Gets the kubernetes URL(s) for the specified service in your local cluster\n",
      "  ssh            Log into or run a command on a machine with SSH; similar to 'docker-machine ssh'\n",
      "  ssh-key        Retrieve the ssh identity key path of the specified cluster\n",
      "  start          Starts a local kubernetes cluster\n",
      "  status         Gets the status of a local kubernetes cluster\n",
      "  stop           Stops a running local kubernetes cluster\n",
      "  update-check   Print current and latest version number\n",
      "  update-context Verify the IP address of the running cluster in kubeconfig.\n",
      "  version        Print the version of minikube\n",
      "\n",
      "Flags:\n",
      "      --alsologtostderr                  log to standard error as well as files\n",
      "  -b, --bootstrapper string              The name of the cluster bootstrapper that will set up the kubernetes cluster. (default \"kubeadm\")\n",
      "  -h, --help                             help for minikube\n",
      "      --log_backtrace_at traceLocation   when logging hits line file:N, emit a stack trace (default :0)\n",
      "      --log_dir string                   If non-empty, write log files in this directory\n",
      "      --logtostderr                      log to standard error instead of files\n",
      "  -p, --profile string                   The name of the minikube VM being used.  \n",
      "                                         \tThis can be modified to allow for multiple minikube instances to be run independently (default \"minikube\")\n",
      "      --stderrthreshold severity         logs at or above this threshold go to stderr (default 2)\n",
      "  -v, --v Level                          log level for V logs\n",
      "      --vmodule moduleSpec               comma-separated list of pattern=N settings for file-filtered logging\n",
      "\n",
      "Use \"minikube [command] --help\" for more information about a command.\n"
     ]
    }
   ],
   "source": [
    "%%bash\n",
    "\n",
    "minikube --help"
   ]
  },
  {
   "cell_type": "markdown",
   "metadata": {
    "slideshow": {
     "slide_type": "notes"
    }
   },
   "source": [
    "There are several different commands for minikube, I invite you all to explore the full set of functionallity that minikube supports, if that's your cup of tea, but for this talk purposes, we are just going to go ahead and start a minikube cluster."
   ]
  },
  {
   "cell_type": "markdown",
   "metadata": {
    "slideshow": {
     "slide_type": "subslide"
    }
   },
   "source": [
    "### Start `minikube`\n",
    "\n",
    "```bash\n",
    "minikube start \n",
    "```"
   ]
  },
  {
   "cell_type": "code",
   "execution_count": 2,
   "metadata": {
    "slideshow": {
     "slide_type": "subslide"
    }
   },
   "outputs": [
    {
     "name": "stdout",
     "output_type": "stream",
     "text": [
      "minikube: Running\n",
      "cluster: Running\n",
      "kubectl: Correctly Configured: pointing to minikube-vm at 192.168.99.100\n"
     ]
    }
   ],
   "source": [
    "%%bash\n",
    "\n",
    "minikube status"
   ]
  },
  {
   "cell_type": "markdown",
   "metadata": {
    "slideshow": {
     "slide_type": "notes"
    }
   },
   "source": [
    "Once we have our local k8s cluster up and running we can move along to the next step. \n",
    "Locally installing the mongodb enterprise kubernetes operator. "
   ]
  },
  {
   "cell_type": "markdown",
   "metadata": {
    "slideshow": {
     "slide_type": "slide"
    }
   },
   "source": [
    "### ``kubectl``\n",
    "\n",
    "```sh\n",
    "kubectl [command] [TYPE] [NAME] [flags]\n",
    "```"
   ]
  },
  {
   "cell_type": "markdown",
   "metadata": {
    "slideshow": {
     "slide_type": "notes"
    }
   },
   "source": [
    "``kubectl`` takes a command, a type, a name and a set of optional flags\n",
    "\n",
    "K8s allows for several commands of different types. \n",
    "You can also think of commands as verbs or actions.\n",
    "Things like\n",
    "\n",
    "- create\n",
    "- expose\n",
    "- get\n",
    "- describe\n",
    "- ...\n",
    "\n",
    "are all basic commands.\n",
    "\n",
    "Each verb / command can be applied to a resource type, and there are several different available resource types:\n",
    "- https://kubernetes.io/docs/reference/kubectl/overview/#resource-types"
   ]
  },
  {
   "cell_type": "markdown",
   "metadata": {
    "slideshow": {
     "slide_type": "subslide"
    }
   },
   "source": [
    "### Install `kubectl`\n",
    "```sh\n",
    "brew install kubectl\n",
    "```"
   ]
  },
  {
   "cell_type": "markdown",
   "metadata": {
    "slideshow": {
     "slide_type": "notes"
    }
   },
   "source": [
    "With this instruction we can install ``kubectl`` on macos. \n",
    "\n",
    "For other systems follow the installation guide: \n",
    "\n",
    "- https://kubernetes.io/docs/tasks/tools/install-kubectl/ "
   ]
  },
  {
   "cell_type": "code",
   "execution_count": 3,
   "metadata": {
    "slideshow": {
     "slide_type": "subslide"
    }
   },
   "outputs": [
    {
     "name": "stdout",
     "output_type": "stream",
     "text": [
      "NAME       STATUS   ROLES    AGE   VERSION\n",
      "minikube   Ready    master   1d    v1.10.0\n"
     ]
    }
   ],
   "source": [
    "%%bash\n",
    "\n",
    "kubectl get nodes"
   ]
  },
  {
   "cell_type": "code",
   "execution_count": 4,
   "metadata": {
    "scrolled": true,
    "slideshow": {
     "slide_type": "subslide"
    }
   },
   "outputs": [
    {
     "name": "stdout",
     "output_type": "stream",
     "text": [
      "NAME                                           READY   STATUS    RESTARTS   AGE\n",
      "mflix-java-65c5448c9d-c7dv5                    1/1     Running   0          1h\n",
      "mflix-replicaset-0                             1/1     Running   0          2h\n",
      "mflix-replicaset-1                             1/1     Running   0          2h\n",
      "mflix-replicaset-2                             1/1     Running   0          2h\n",
      "mongodb-enterprise-operator-74fbcbd9b7-s58p2   1/1     Running   0          1d\n"
     ]
    }
   ],
   "source": [
    "%%bash\n",
    "\n",
    "kubectl -n mongodb get pods"
   ]
  },
  {
   "cell_type": "markdown",
   "metadata": {
    "slideshow": {
     "slide_type": "notes"
    }
   },
   "source": [
    "Using kubectl I can easily get information about the nodes that are currently running in my local cluster. \n",
    "\n",
    "    while delivering this talk you can show the dynamic nature of this presentation format by changing the command from this current node to the following instruction \n",
    "    \n",
    "    kubectl get nodes -o json \n",
    "    \n",
    "    This will generate a quite large output that you can skip iterating on\n",
    "    \n",
    "In my case, I have only one member in the cluster, minikube, which is readily available and has the master role. "
   ]
  },
  {
   "cell_type": "markdown",
   "metadata": {
    "slideshow": {
     "slide_type": "slide"
    }
   },
   "source": [
    "### `docker`\n",
    "\n",
    "```bash\n",
    "docker COMMAND\n",
    "```\n",
    "\n",
    "https://docs.docker.com/docker-for-mac/"
   ]
  },
  {
   "cell_type": "markdown",
   "metadata": {
    "slideshow": {
     "slide_type": "subslide"
    }
   },
   "source": [
    "#### Use `minikube` container runtime (docker daemon)\n",
    "\n",
    "```bash\n",
    "minikube docker-env \n",
    "```"
   ]
  },
  {
   "cell_type": "markdown",
   "metadata": {
    "slideshow": {
     "slide_type": "notes"
    }
   },
   "source": [
    "But before building the container image of our application, we are going to redirect your docker client to connect to minikube's container runtime, minikube has its own docker daemon."
   ]
  },
  {
   "cell_type": "code",
   "execution_count": 5,
   "metadata": {
    "slideshow": {
     "slide_type": "subslide"
    }
   },
   "outputs": [
    {
     "name": "stdout",
     "output_type": "stream",
     "text": [
      "export DOCKER_TLS_VERIFY=\"1\"\n",
      "export DOCKER_HOST=\"tcp://192.168.99.100:2376\"\n",
      "export DOCKER_CERT_PATH=\"/Users/norberto/.minikube/certs\"\n",
      "export DOCKER_API_VERSION=\"1.35\"\n",
      "# Run this command to configure your shell:\n",
      "# eval $(minikube docker-env)\n"
     ]
    }
   ],
   "source": [
    "%%bash\n",
    "minikube docker-env \n",
    "\n",
    "eval $(minikube docker-env ) "
   ]
  },
  {
   "cell_type": "markdown",
   "metadata": {
    "slideshow": {
     "slide_type": "slide"
    }
   },
   "source": [
    "#### Step 2 - Install Enterprise Kubernetes Operator\n",
    "![Step 2 - Install MongoDB Enterprise Operator](assets/k8s_opsmanager_step2.png)"
   ]
  },
  {
   "cell_type": "markdown",
   "metadata": {
    "slideshow": {
     "slide_type": "slide"
    }
   },
   "source": [
    "### Install MongoDB Enterprise Operator \n",
    "```bash\n",
    "git clone https://github.com/mongodb/mongodb-enterprise-kubernetes.git\n",
    "```\n",
    "\n",
    "https://docs.opsmanager.mongodb.com/current/tutorial/install-k8s-operator/"
   ]
  },
  {
   "cell_type": "markdown",
   "metadata": {
    "slideshow": {
     "slide_type": "notes"
    }
   },
   "source": [
    "To install the ``mongodb-enterprise-kubernetes`` we recommend you clone the repository locally. \n",
    "\n",
    "We are going to look into the what an kubernetes operator is and how the ``mongodb-enterprise-kubernetes`` operator works.\n",
    "For now we can simply clone the the repository and follow the installation instructions: \n",
    "\n",
    "* https://docs.opsmanager.mongodb.com/current/tutorial/install-k8s-operator/\n"
   ]
  },
  {
   "cell_type": "code",
   "execution_count": 6,
   "metadata": {
    "slideshow": {
     "slide_type": "subslide"
    }
   },
   "outputs": [
    {
     "name": "stdout",
     "output_type": "stream",
     "text": [
      "LICENSE\n",
      "README.md\n",
      "crds.yaml\n",
      "helm_chart\n",
      "mongodb-enterprise.yaml\n",
      "samples\n"
     ]
    },
    {
     "name": "stderr",
     "output_type": "stream",
     "text": [
      "fatal: destination path '/tmp/opsmgrk8s' already exists and is not an empty directory.\n"
     ]
    }
   ],
   "source": [
    "%%bash\n",
    "# cloning repository on my tmp folder\n",
    "mkdir -p /tmp/opsmgrk8s\n",
    "git clone https://github.com/mongodb/mongodb-enterprise-kubernetes.git /tmp/opsmgrk8s\n",
    "\n",
    "ls /tmp/opsmgrk8s"
   ]
  },
  {
   "cell_type": "code",
   "execution_count": 7,
   "metadata": {
    "slideshow": {
     "slide_type": "subslide"
    }
   },
   "outputs": [
    {
     "name": "stderr",
     "output_type": "stream",
     "text": [
      "Error from server (AlreadyExists): namespaces \"mongodb\" already exists\n"
     ]
    },
    {
     "ename": "CalledProcessError",
     "evalue": "Command 'b'# create a kubernetes namespace\\nkubectl create namespace mongodb\\n'' returned non-zero exit status 1.",
     "output_type": "error",
     "traceback": [
      "\u001b[0;31m---------------------------------------------------------------------------\u001b[0m",
      "\u001b[0;31mCalledProcessError\u001b[0m                        Traceback (most recent call last)",
      "\u001b[0;32m<ipython-input-7-d05b5ef1a561>\u001b[0m in \u001b[0;36m<module>\u001b[0;34m\u001b[0m\n\u001b[0;32m----> 1\u001b[0;31m \u001b[0mget_ipython\u001b[0m\u001b[0;34m(\u001b[0m\u001b[0;34m)\u001b[0m\u001b[0;34m.\u001b[0m\u001b[0mrun_cell_magic\u001b[0m\u001b[0;34m(\u001b[0m\u001b[0;34m'bash'\u001b[0m\u001b[0;34m,\u001b[0m \u001b[0;34m''\u001b[0m\u001b[0;34m,\u001b[0m \u001b[0;34m'# create a kubernetes namespace\\nkubectl create namespace mongodb\\n'\u001b[0m\u001b[0;34m)\u001b[0m\u001b[0;34m\u001b[0m\u001b[0m\n\u001b[0m",
      "\u001b[0;32m~/src/nleite/opsmgrk8s/venv/lib/python3.7/site-packages/IPython/core/interactiveshell.py\u001b[0m in \u001b[0;36mrun_cell_magic\u001b[0;34m(self, magic_name, line, cell)\u001b[0m\n\u001b[1;32m   2321\u001b[0m             \u001b[0mmagic_arg_s\u001b[0m \u001b[0;34m=\u001b[0m \u001b[0mself\u001b[0m\u001b[0;34m.\u001b[0m\u001b[0mvar_expand\u001b[0m\u001b[0;34m(\u001b[0m\u001b[0mline\u001b[0m\u001b[0;34m,\u001b[0m \u001b[0mstack_depth\u001b[0m\u001b[0;34m)\u001b[0m\u001b[0;34m\u001b[0m\u001b[0m\n\u001b[1;32m   2322\u001b[0m             \u001b[0;32mwith\u001b[0m \u001b[0mself\u001b[0m\u001b[0;34m.\u001b[0m\u001b[0mbuiltin_trap\u001b[0m\u001b[0;34m:\u001b[0m\u001b[0;34m\u001b[0m\u001b[0m\n\u001b[0;32m-> 2323\u001b[0;31m                 \u001b[0mresult\u001b[0m \u001b[0;34m=\u001b[0m \u001b[0mfn\u001b[0m\u001b[0;34m(\u001b[0m\u001b[0mmagic_arg_s\u001b[0m\u001b[0;34m,\u001b[0m \u001b[0mcell\u001b[0m\u001b[0;34m)\u001b[0m\u001b[0;34m\u001b[0m\u001b[0m\n\u001b[0m\u001b[1;32m   2324\u001b[0m             \u001b[0;32mreturn\u001b[0m \u001b[0mresult\u001b[0m\u001b[0;34m\u001b[0m\u001b[0m\n\u001b[1;32m   2325\u001b[0m \u001b[0;34m\u001b[0m\u001b[0m\n",
      "\u001b[0;32m~/src/nleite/opsmgrk8s/venv/lib/python3.7/site-packages/IPython/core/magics/script.py\u001b[0m in \u001b[0;36mnamed_script_magic\u001b[0;34m(line, cell)\u001b[0m\n\u001b[1;32m    140\u001b[0m             \u001b[0;32melse\u001b[0m\u001b[0;34m:\u001b[0m\u001b[0;34m\u001b[0m\u001b[0m\n\u001b[1;32m    141\u001b[0m                 \u001b[0mline\u001b[0m \u001b[0;34m=\u001b[0m \u001b[0mscript\u001b[0m\u001b[0;34m\u001b[0m\u001b[0m\n\u001b[0;32m--> 142\u001b[0;31m             \u001b[0;32mreturn\u001b[0m \u001b[0mself\u001b[0m\u001b[0;34m.\u001b[0m\u001b[0mshebang\u001b[0m\u001b[0;34m(\u001b[0m\u001b[0mline\u001b[0m\u001b[0;34m,\u001b[0m \u001b[0mcell\u001b[0m\u001b[0;34m)\u001b[0m\u001b[0;34m\u001b[0m\u001b[0m\n\u001b[0m\u001b[1;32m    143\u001b[0m \u001b[0;34m\u001b[0m\u001b[0m\n\u001b[1;32m    144\u001b[0m         \u001b[0;31m# write a basic docstring:\u001b[0m\u001b[0;34m\u001b[0m\u001b[0;34m\u001b[0m\u001b[0m\n",
      "\u001b[0;32m<decorator-gen-109>\u001b[0m in \u001b[0;36mshebang\u001b[0;34m(self, line, cell)\u001b[0m\n",
      "\u001b[0;32m~/src/nleite/opsmgrk8s/venv/lib/python3.7/site-packages/IPython/core/magic.py\u001b[0m in \u001b[0;36m<lambda>\u001b[0;34m(f, *a, **k)\u001b[0m\n\u001b[1;32m    185\u001b[0m     \u001b[0;31m# but it's overkill for just that one bit of state.\u001b[0m\u001b[0;34m\u001b[0m\u001b[0;34m\u001b[0m\u001b[0m\n\u001b[1;32m    186\u001b[0m     \u001b[0;32mdef\u001b[0m \u001b[0mmagic_deco\u001b[0m\u001b[0;34m(\u001b[0m\u001b[0marg\u001b[0m\u001b[0;34m)\u001b[0m\u001b[0;34m:\u001b[0m\u001b[0;34m\u001b[0m\u001b[0m\n\u001b[0;32m--> 187\u001b[0;31m         \u001b[0mcall\u001b[0m \u001b[0;34m=\u001b[0m \u001b[0;32mlambda\u001b[0m \u001b[0mf\u001b[0m\u001b[0;34m,\u001b[0m \u001b[0;34m*\u001b[0m\u001b[0ma\u001b[0m\u001b[0;34m,\u001b[0m \u001b[0;34m**\u001b[0m\u001b[0mk\u001b[0m\u001b[0;34m:\u001b[0m \u001b[0mf\u001b[0m\u001b[0;34m(\u001b[0m\u001b[0;34m*\u001b[0m\u001b[0ma\u001b[0m\u001b[0;34m,\u001b[0m \u001b[0;34m**\u001b[0m\u001b[0mk\u001b[0m\u001b[0;34m)\u001b[0m\u001b[0;34m\u001b[0m\u001b[0m\n\u001b[0m\u001b[1;32m    188\u001b[0m \u001b[0;34m\u001b[0m\u001b[0m\n\u001b[1;32m    189\u001b[0m         \u001b[0;32mif\u001b[0m \u001b[0mcallable\u001b[0m\u001b[0;34m(\u001b[0m\u001b[0marg\u001b[0m\u001b[0;34m)\u001b[0m\u001b[0;34m:\u001b[0m\u001b[0;34m\u001b[0m\u001b[0m\n",
      "\u001b[0;32m~/src/nleite/opsmgrk8s/venv/lib/python3.7/site-packages/IPython/core/magics/script.py\u001b[0m in \u001b[0;36mshebang\u001b[0;34m(self, line, cell)\u001b[0m\n\u001b[1;32m    243\u001b[0m             \u001b[0msys\u001b[0m\u001b[0;34m.\u001b[0m\u001b[0mstderr\u001b[0m\u001b[0;34m.\u001b[0m\u001b[0mflush\u001b[0m\u001b[0;34m(\u001b[0m\u001b[0;34m)\u001b[0m\u001b[0;34m\u001b[0m\u001b[0m\n\u001b[1;32m    244\u001b[0m         \u001b[0;32mif\u001b[0m \u001b[0margs\u001b[0m\u001b[0;34m.\u001b[0m\u001b[0mraise_error\u001b[0m \u001b[0;32mand\u001b[0m \u001b[0mp\u001b[0m\u001b[0;34m.\u001b[0m\u001b[0mreturncode\u001b[0m\u001b[0;34m!=\u001b[0m\u001b[0;36m0\u001b[0m\u001b[0;34m:\u001b[0m\u001b[0;34m\u001b[0m\u001b[0m\n\u001b[0;32m--> 245\u001b[0;31m             \u001b[0;32mraise\u001b[0m \u001b[0mCalledProcessError\u001b[0m\u001b[0;34m(\u001b[0m\u001b[0mp\u001b[0m\u001b[0;34m.\u001b[0m\u001b[0mreturncode\u001b[0m\u001b[0;34m,\u001b[0m \u001b[0mcell\u001b[0m\u001b[0;34m,\u001b[0m \u001b[0moutput\u001b[0m\u001b[0;34m=\u001b[0m\u001b[0mout\u001b[0m\u001b[0;34m,\u001b[0m \u001b[0mstderr\u001b[0m\u001b[0;34m=\u001b[0m\u001b[0merr\u001b[0m\u001b[0;34m)\u001b[0m\u001b[0;34m\u001b[0m\u001b[0m\n\u001b[0m\u001b[1;32m    246\u001b[0m \u001b[0;34m\u001b[0m\u001b[0m\n\u001b[1;32m    247\u001b[0m     \u001b[0;32mdef\u001b[0m \u001b[0m_run_script\u001b[0m\u001b[0;34m(\u001b[0m\u001b[0mself\u001b[0m\u001b[0;34m,\u001b[0m \u001b[0mp\u001b[0m\u001b[0;34m,\u001b[0m \u001b[0mcell\u001b[0m\u001b[0;34m,\u001b[0m \u001b[0mto_close\u001b[0m\u001b[0;34m)\u001b[0m\u001b[0;34m:\u001b[0m\u001b[0;34m\u001b[0m\u001b[0m\n",
      "\u001b[0;31mCalledProcessError\u001b[0m: Command 'b'# create a kubernetes namespace\\nkubectl create namespace mongodb\\n'' returned non-zero exit status 1."
     ]
    }
   ],
   "source": [
    "%%bash\n",
    "# create a kubernetes namespace\n",
    "kubectl create namespace mongodb"
   ]
  },
  {
   "cell_type": "code",
   "execution_count": null,
   "metadata": {
    "slideshow": {
     "slide_type": "subslide"
    }
   },
   "outputs": [],
   "source": [
    "%%bash \n",
    "# cat the crds.yaml file \n",
    "cat /tmp/opsmgrk8s/crds.yaml\n"
   ]
  },
  {
   "cell_type": "code",
   "execution_count": null,
   "metadata": {
    "slideshow": {
     "slide_type": "subslide"
    }
   },
   "outputs": [],
   "source": [
    "%%bash \n",
    "# cat mongodb-enterprise.yaml\n",
    "cat /tmp/opsmgrk8s/mongodb-enterprise.yaml\n"
   ]
  },
  {
   "cell_type": "code",
   "execution_count": null,
   "metadata": {
    "slideshow": {
     "slide_type": "subslide"
    }
   },
   "outputs": [],
   "source": [
    "%%bash\n",
    "# install crds.yaml\n",
    "kubectl apply -f /tmp/opsmgrk8s/crds.yaml"
   ]
  },
  {
   "cell_type": "code",
   "execution_count": null,
   "metadata": {
    "slideshow": {
     "slide_type": "subslide"
    }
   },
   "outputs": [],
   "source": [
    "%%bash\n",
    "# ... and mongodb-enterprise.yaml\n",
    "kubectl apply -f /tmp/opsmgrk8s/mongodb-enterprise.yaml"
   ]
  },
  {
   "cell_type": "code",
   "execution_count": null,
   "metadata": {
    "slideshow": {
     "slide_type": "subslide"
    }
   },
   "outputs": [],
   "source": [
    "%%bash\n",
    "# confirm that the MongoDB Enterprise Operator POD is up and running \n",
    "kubectl -n mongodb get pods"
   ]
  },
  {
   "cell_type": "markdown",
   "metadata": {
    "slideshow": {
     "slide_type": "subslide"
    }
   },
   "source": [
    "#### Apply `configmap`\n",
    "\n",
    "Enterprise Kubernetes Operator uses a [Kubernetes ConfigMap](https://kubernetes.io/docs/tasks/configure-pod-container/configure-pod-configmap/) to enable the decoupling of configuration artifacts. \n",
    "\n",
    "This allows the us to link the Ops/Cloud Manager Project to the Kubernetes Operator"
   ]
  },
  {
   "cell_type": "code",
   "execution_count": null,
   "metadata": {
    "slideshow": {
     "slide_type": "subslide"
    }
   },
   "outputs": [],
   "source": [
    "%%bash\n",
    "\n",
    "kubectl -n mongodb apply -f configmap.yaml"
   ]
  },
  {
   "cell_type": "markdown",
   "metadata": {
    "slideshow": {
     "slide_type": "subslide"
    }
   },
   "source": [
    "#### Create OM Credentials\n",
    "\n",
    "For the Enterprise Operator to be able to create or update the configuration of Cloud / Ops Manager objects, it needs to granted access via Ops Manager [Public API Key](https://docs.opsmanager.mongodb.com/current/tutorial/configure-public-api-access/#generate-public-api-key)\n",
    "\n",
    "![Generate Public User API Key](assets/genereate_api_key.png)"
   ]
  },
  {
   "cell_type": "code",
   "execution_count": null,
   "metadata": {
    "slideshow": {
     "slide_type": "subslide"
    }
   },
   "outputs": [],
   "source": [
    "%%bash\n",
    "PUBLIC_API_KEY=$(cat om-user.apk)\n",
    "EMAIL=\"norberto.leite\"\n",
    "kubectl -n mongodb create secret generic om-credentials \\\n",
    "--from-literal=\"user=$EMAIL\" \\\n",
    "--from-literal=\"publicApiKey=$PUBLIC_API_KEY\""
   ]
  },
  {
   "cell_type": "code",
   "execution_count": null,
   "metadata": {
    "slideshow": {
     "slide_type": "subslide"
    }
   },
   "outputs": [],
   "source": [
    "%%bash\n",
    "#check the credentials \n",
    "kubectl describe secrets/om-credentials -n mongodb"
   ]
  },
  {
   "cell_type": "markdown",
   "metadata": {
    "slideshow": {
     "slide_type": "slide"
    }
   },
   "source": [
    "### Simple Replica Set Deployment\n",
    "\n",
    "![Simple Replica Set Deployment](assets/k8s_opsmanager_simple_replicaset.png)"
   ]
  },
  {
   "cell_type": "markdown",
   "metadata": {
    "slideshow": {
     "slide_type": "notes"
    }
   },
   "source": [
    "Let's go ahead and check the your Cloud / Ops Manager Projects UI page.\n",
    "https://cloud.mongodb.com/\n",
    "\n",
    "There should be no project under the organization that you've selected to deploy this cluster "
   ]
  },
  {
   "cell_type": "markdown",
   "metadata": {
    "slideshow": {
     "slide_type": "subslide"
    }
   },
   "source": [
    "### Before `apply` Replica Set\n",
    "\n",
    "![Empty Projects List](assets/om_emtpy_projects.png)"
   ]
  },
  {
   "cell_type": "code",
   "execution_count": null,
   "metadata": {
    "slideshow": {
     "slide_type": "subslide"
    }
   },
   "outputs": [],
   "source": [
    "%%bash\n",
    "# let's start with a simple replica set\n",
    "kubectl -n mongodb apply -f mflix-replicaset.yaml"
   ]
  },
  {
   "cell_type": "markdown",
   "metadata": {
    "slideshow": {
     "slide_type": "notes"
    }
   },
   "source": [
    "After executing this command, you should see a new project created in the UI page."
   ]
  },
  {
   "cell_type": "markdown",
   "metadata": {
    "slideshow": {
     "slide_type": "subslide"
    }
   },
   "source": [
    "#### After `apply` Replica Set\n",
    "\n",
    "![New Project Listed](assets/om_new_test_project.png)"
   ]
  },
  {
   "cell_type": "markdown",
   "metadata": {
    "slideshow": {
     "slide_type": "notes"
    }
   },
   "source": [
    "By applying the `mflix-replicaset.yaml` file, we've created an Ops Manager managed cluster that can configured using the set of descriptive commands that Kubernetes provides, as well as from the Ops Manager UI/API itself. "
   ]
  },
  {
   "cell_type": "markdown",
   "metadata": {
    "slideshow": {
     "slide_type": "skip"
    }
   },
   "source": [
    "### Pull `mflix` image\n",
    "\n",
    "```sh\n",
    "docker pull nleite/mflix:latest\n",
    "```"
   ]
  },
  {
   "cell_type": "markdown",
   "metadata": {
    "slideshow": {
     "slide_type": "skip"
    }
   },
   "source": [
    "You can pull from dockerhub or simply build it yourself, the `mflix` image from the repository `mflix/Dockerfile`."
   ]
  },
  {
   "cell_type": "code",
   "execution_count": null,
   "metadata": {
    "slideshow": {
     "slide_type": "skip"
    }
   },
   "outputs": [],
   "source": [
    "%%bash\n",
    "\n",
    "docker images"
   ]
  },
  {
   "cell_type": "code",
   "execution_count": null,
   "metadata": {
    "slideshow": {
     "slide_type": "skip"
    }
   },
   "outputs": [],
   "source": [
    "%%bash\n",
    "\n",
    "cat mflix-deployment.yaml"
   ]
  },
  {
   "cell_type": "code",
   "execution_count": null,
   "metadata": {
    "slideshow": {
     "slide_type": "skip"
    }
   },
   "outputs": [],
   "source": [
    "%%bash \n",
    "# deploy the `deployment`\n",
    "kubectl -n mongodb apply -f mflix-deployment.yaml"
   ]
  },
  {
   "cell_type": "code",
   "execution_count": null,
   "metadata": {
    "slideshow": {
     "slide_type": "skip"
    }
   },
   "outputs": [],
   "source": [
    "%%bash\n",
    "# create a service to expose the mflix-java deployment \n",
    "kubectl -n mongodb apply -f mflix-java-service.yaml"
   ]
  },
  {
   "cell_type": "code",
   "execution_count": null,
   "metadata": {
    "scrolled": true,
    "slideshow": {
     "slide_type": "skip"
    }
   },
   "outputs": [],
   "source": [
    "%%bash \n",
    "# list all services\n",
    "kubectl -n mongodb get pods"
   ]
  },
  {
   "cell_type": "markdown",
   "metadata": {
    "slideshow": {
     "slide_type": "slide"
    }
   },
   "source": [
    "## Recap\n",
    "\n",
    "- Basic overview of Kubernetes components and architecture \n",
    "- How to locally install a Kubernetes cluster \n",
    "- How to deploy containarized applications in Kubernetes \n",
    "- How to deploy and manage a MongoDB Cluster in Kubernetes \n",
    "- How to integrate Ops Manager | Cloud Manager with Kubernetes"
   ]
  },
  {
   "cell_type": "markdown",
   "metadata": {
    "slideshow": {
     "slide_type": "subslide"
    }
   },
   "source": [
    "### References and Glossory\n",
    "\n",
    "* [kubectl documentation](https://kubernetes.io/docs/reference/kubectl/kubectl/)\n",
    "* [kubernetes node]()\n",
    "* [kubeadm documentation](https://kubernetes.io/docs/setup/independent/high-availability/#external-etcd)\n",
    "* [Kubernetes ConfigMap](https://kubernetes.io/docs/tasks/configure-pod-container/configure-pod-configmap/)\n",
    "* [Kubernetes Namespaces](https://kubernetes.io/docs/concepts/overview/working-with-objects/namespaces/)\n",
    "* MongoDB Enterprise Kubernetes Operator \n",
    "    * [Installation tutorial](https://docs.opsmanager.mongodb.com/current/tutorial/install-k8s-operator/)\n",
    "    * [Source code repository](https://github.com/mongodb/mongodb-enterprise-kubernetes)  \n",
    "    * [Ops Manager ConfigMap](https://docs.opsmanager.mongodb.com/current/tutorial/install-k8s-operator/#create-your-onprem-project-and-k8s-k8s-configmap)    \n",
    "* [Web Hub of K8s and MongoDB](http://k8smongodb.net/)"
   ]
  },
  {
   "cell_type": "markdown",
   "metadata": {
    "slideshow": {
     "slide_type": "slide"
    }
   },
   "source": [
    "## QA ? / Notes / Thank You!"
   ]
  }
 ],
 "metadata": {
  "celltoolbar": "Slideshow",
  "kernelspec": {
   "display_name": "Python 3",
   "language": "python",
   "name": "python3"
  },
  "language_info": {
   "codemirror_mode": {
    "name": "ipython",
    "version": 3
   },
   "file_extension": ".py",
   "mimetype": "text/x-python",
   "name": "python",
   "nbconvert_exporter": "python",
   "pygments_lexer": "ipython3",
   "version": "3.7.0"
  },
  "toc": {
   "base_numbering": 1,
   "nav_menu": {},
   "number_sections": false,
   "sideBar": true,
   "skip_h1_title": false,
   "title_cell": "Table of Contents",
   "title_sidebar": "Contents",
   "toc_cell": false,
   "toc_position": {},
   "toc_section_display": true,
   "toc_window_display": false
  }
 },
 "nbformat": 4,
 "nbformat_minor": 2
}
